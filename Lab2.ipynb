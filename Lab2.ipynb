{
 "cells": [
  {
   "cell_type": "markdown",
   "metadata": {},
   "source": [
    "# Preparing Data"
   ]
  },
  {
   "cell_type": "markdown",
   "metadata": {},
   "source": [
    "github: https://github.com/SuvorovNM/IntroML_Lab2"
   ]
  },
  {
   "cell_type": "code",
   "execution_count": 5,
   "metadata": {},
   "outputs": [],
   "source": [
    "import math\n",
    "import random\n",
    "from random import seed\n",
    "from random import randrange\n",
    "\n",
    "import numpy\n",
    "import pandas as pd\n",
    "import matplotlib.pyplot as plt"
   ]
  },
  {
   "cell_type": "code",
   "execution_count": 6,
   "metadata": {},
   "outputs": [],
   "source": [
    "df1 = pd.read_csv('Data.csv', sep=',')"
   ]
  },
  {
   "cell_type": "markdown",
   "metadata": {},
   "source": [
    "## Take 1000 elements to force speed of algorithms"
   ]
  },
  {
   "cell_type": "code",
   "execution_count": 7,
   "metadata": {},
   "outputs": [],
   "source": [
    "df1 = df1[:1000]"
   ]
  },
  {
   "cell_type": "code",
   "execution_count": 8,
   "metadata": {},
   "outputs": [
    {
     "name": "stdout",
     "output_type": "stream",
     "text": [
      "<class 'pandas.core.frame.DataFrame'>\n",
      "RangeIndex: 1000 entries, 0 to 999\n",
      "Data columns (total 15 columns):\n",
      " #   Column           Non-Null Count  Dtype \n",
      "---  ------           --------------  ----- \n",
      " 0   Age              1000 non-null   int64 \n",
      " 1   Workclass        1000 non-null   object\n",
      " 2   Fnlwgt           1000 non-null   int64 \n",
      " 3   Education        1000 non-null   object\n",
      " 4   Education-num    1000 non-null   int64 \n",
      " 5   Marital-status   1000 non-null   object\n",
      " 6   Occupation       1000 non-null   object\n",
      " 7   Relationship     1000 non-null   object\n",
      " 8   Race             1000 non-null   object\n",
      " 9   Sex              1000 non-null   object\n",
      " 10  Capital-gain     1000 non-null   int64 \n",
      " 11  Capital-loss     1000 non-null   int64 \n",
      " 12  Hours-per-week   1000 non-null   int64 \n",
      " 13  Native-Country   1000 non-null   object\n",
      " 14  Income-per-year  1000 non-null   object\n",
      "dtypes: int64(6), object(9)\n",
      "memory usage: 117.3+ KB\n"
     ]
    }
   ],
   "source": [
    "df1.info()"
   ]
  },
  {
   "cell_type": "code",
   "execution_count": 9,
   "metadata": {},
   "outputs": [
    {
     "data": {
      "text/html": [
       "<div>\n",
       "<style scoped>\n",
       "    .dataframe tbody tr th:only-of-type {\n",
       "        vertical-align: middle;\n",
       "    }\n",
       "\n",
       "    .dataframe tbody tr th {\n",
       "        vertical-align: top;\n",
       "    }\n",
       "\n",
       "    .dataframe thead th {\n",
       "        text-align: right;\n",
       "    }\n",
       "</style>\n",
       "<table border=\"1\" class=\"dataframe\">\n",
       "  <thead>\n",
       "    <tr style=\"text-align: right;\">\n",
       "      <th></th>\n",
       "      <th>Age</th>\n",
       "      <th>Fnlwgt</th>\n",
       "      <th>Education-num</th>\n",
       "      <th>Capital-gain</th>\n",
       "      <th>Capital-loss</th>\n",
       "      <th>Hours-per-week</th>\n",
       "    </tr>\n",
       "  </thead>\n",
       "  <tbody>\n",
       "    <tr>\n",
       "      <th>count</th>\n",
       "      <td>1000.000000</td>\n",
       "      <td>1.000000e+03</td>\n",
       "      <td>1000.000000</td>\n",
       "      <td>1000.000000</td>\n",
       "      <td>1000.000000</td>\n",
       "      <td>1000.000000</td>\n",
       "    </tr>\n",
       "    <tr>\n",
       "      <th>mean</th>\n",
       "      <td>38.032000</td>\n",
       "      <td>1.919758e+05</td>\n",
       "      <td>10.081000</td>\n",
       "      <td>586.352000</td>\n",
       "      <td>92.960000</td>\n",
       "      <td>39.876000</td>\n",
       "    </tr>\n",
       "    <tr>\n",
       "      <th>std</th>\n",
       "      <td>13.361643</td>\n",
       "      <td>1.080737e+05</td>\n",
       "      <td>2.546944</td>\n",
       "      <td>2618.122315</td>\n",
       "      <td>412.442337</td>\n",
       "      <td>12.018114</td>\n",
       "    </tr>\n",
       "    <tr>\n",
       "      <th>min</th>\n",
       "      <td>17.000000</td>\n",
       "      <td>2.117400e+04</td>\n",
       "      <td>1.000000</td>\n",
       "      <td>0.000000</td>\n",
       "      <td>0.000000</td>\n",
       "      <td>1.000000</td>\n",
       "    </tr>\n",
       "    <tr>\n",
       "      <th>25%</th>\n",
       "      <td>28.000000</td>\n",
       "      <td>1.153625e+05</td>\n",
       "      <td>9.000000</td>\n",
       "      <td>0.000000</td>\n",
       "      <td>0.000000</td>\n",
       "      <td>40.000000</td>\n",
       "    </tr>\n",
       "    <tr>\n",
       "      <th>50%</th>\n",
       "      <td>36.000000</td>\n",
       "      <td>1.805905e+05</td>\n",
       "      <td>10.000000</td>\n",
       "      <td>0.000000</td>\n",
       "      <td>0.000000</td>\n",
       "      <td>40.000000</td>\n",
       "    </tr>\n",
       "    <tr>\n",
       "      <th>75%</th>\n",
       "      <td>46.000000</td>\n",
       "      <td>2.471522e+05</td>\n",
       "      <td>12.000000</td>\n",
       "      <td>0.000000</td>\n",
       "      <td>0.000000</td>\n",
       "      <td>45.000000</td>\n",
       "    </tr>\n",
       "    <tr>\n",
       "      <th>max</th>\n",
       "      <td>90.000000</td>\n",
       "      <td>1.033222e+06</td>\n",
       "      <td>16.000000</td>\n",
       "      <td>34095.000000</td>\n",
       "      <td>2415.000000</td>\n",
       "      <td>99.000000</td>\n",
       "    </tr>\n",
       "  </tbody>\n",
       "</table>\n",
       "</div>"
      ],
      "text/plain": [
       "               Age        Fnlwgt  Education-num  Capital-gain  Capital-loss  \\\n",
       "count  1000.000000  1.000000e+03    1000.000000   1000.000000   1000.000000   \n",
       "mean     38.032000  1.919758e+05      10.081000    586.352000     92.960000   \n",
       "std      13.361643  1.080737e+05       2.546944   2618.122315    412.442337   \n",
       "min      17.000000  2.117400e+04       1.000000      0.000000      0.000000   \n",
       "25%      28.000000  1.153625e+05       9.000000      0.000000      0.000000   \n",
       "50%      36.000000  1.805905e+05      10.000000      0.000000      0.000000   \n",
       "75%      46.000000  2.471522e+05      12.000000      0.000000      0.000000   \n",
       "max      90.000000  1.033222e+06      16.000000  34095.000000   2415.000000   \n",
       "\n",
       "       Hours-per-week  \n",
       "count     1000.000000  \n",
       "mean        39.876000  \n",
       "std         12.018114  \n",
       "min          1.000000  \n",
       "25%         40.000000  \n",
       "50%         40.000000  \n",
       "75%         45.000000  \n",
       "max         99.000000  "
      ]
     },
     "execution_count": 9,
     "metadata": {},
     "output_type": "execute_result"
    }
   ],
   "source": [
    "df1.describe()"
   ]
  },
  {
   "cell_type": "markdown",
   "metadata": {},
   "source": [
    "## Removing unneeded columns (fnlwgt & education)"
   ]
  },
  {
   "cell_type": "markdown",
   "metadata": {},
   "source": [
    "### 'Education_num' already represents 'Education' but in numeric"
   ]
  },
  {
   "cell_type": "code",
   "execution_count": 10,
   "metadata": {},
   "outputs": [],
   "source": [
    "df1 = df1.drop(columns=['Fnlwgt', 'Education', 'Race', 'Native-Country'])"
   ]
  },
  {
   "cell_type": "code",
   "execution_count": 11,
   "metadata": {},
   "outputs": [
    {
     "name": "stdout",
     "output_type": "stream",
     "text": [
      "<class 'pandas.core.frame.DataFrame'>\n",
      "RangeIndex: 1000 entries, 0 to 999\n",
      "Data columns (total 11 columns):\n",
      " #   Column           Non-Null Count  Dtype \n",
      "---  ------           --------------  ----- \n",
      " 0   Age              1000 non-null   int64 \n",
      " 1   Workclass        1000 non-null   object\n",
      " 2   Education-num    1000 non-null   int64 \n",
      " 3   Marital-status   1000 non-null   object\n",
      " 4   Occupation       1000 non-null   object\n",
      " 5   Relationship     1000 non-null   object\n",
      " 6   Sex              1000 non-null   object\n",
      " 7   Capital-gain     1000 non-null   int64 \n",
      " 8   Capital-loss     1000 non-null   int64 \n",
      " 9   Hours-per-week   1000 non-null   int64 \n",
      " 10  Income-per-year  1000 non-null   object\n",
      "dtypes: int64(5), object(6)\n",
      "memory usage: 86.1+ KB\n"
     ]
    }
   ],
   "source": [
    "df1.info()"
   ]
  },
  {
   "cell_type": "markdown",
   "metadata": {},
   "source": [
    "## Change type Object to Category"
   ]
  },
  {
   "cell_type": "code",
   "execution_count": 12,
   "metadata": {},
   "outputs": [
    {
     "data": {
      "text/plain": [
       " Private             699\n",
       " Self-emp-not-inc     81\n",
       " Local-gov            68\n",
       " ?                    62\n",
       " State-gov            36\n",
       " Self-emp-inc         33\n",
       " Federal-gov          21\n",
       "Name: Workclass, dtype: int64"
      ]
     },
     "execution_count": 12,
     "metadata": {},
     "output_type": "execute_result"
    }
   ],
   "source": [
    "df1['Workclass'].value_counts()"
   ]
  },
  {
   "cell_type": "code",
   "execution_count": 13,
   "metadata": {},
   "outputs": [],
   "source": [
    "df1['Workclass'] = df1['Workclass'].astype('category').cat.codes"
   ]
  },
  {
   "cell_type": "code",
   "execution_count": 14,
   "metadata": {},
   "outputs": [
    {
     "data": {
      "text/plain": [
       "9     321\n",
       "10    226\n",
       "13    165\n",
       "14     54\n",
       "11     48\n",
       "7      46\n",
       "12     35\n",
       "6      21\n",
       "5      16\n",
       "4      15\n",
       "16     14\n",
       "3      11\n",
       "15     10\n",
       "8       9\n",
       "2       7\n",
       "1       2\n",
       "Name: Education-num, dtype: int64"
      ]
     },
     "execution_count": 14,
     "metadata": {},
     "output_type": "execute_result"
    }
   ],
   "source": [
    "df1['Education-num'].value_counts()"
   ]
  },
  {
   "cell_type": "code",
   "execution_count": 15,
   "metadata": {},
   "outputs": [],
   "source": [
    "df1['Marital-status'].value_counts()\n",
    "df1['Marital-status'] = df1['Marital-status'].astype('string')"
   ]
  },
  {
   "cell_type": "markdown",
   "metadata": {},
   "source": [
    "## Change all marital statuses to Married/Not-married"
   ]
  },
  {
   "cell_type": "code",
   "execution_count": 16,
   "metadata": {},
   "outputs": [
    {
     "data": {
      "text/plain": [
       "Not-married    556\n",
       "Married        444\n",
       "Name: Marital-status, dtype: int64"
      ]
     },
     "execution_count": 16,
     "metadata": {},
     "output_type": "execute_result"
    }
   ],
   "source": [
    "Marital_status = df1['Marital-status']\n",
    "\n",
    "Marital_status.replace({' Married-civ-spouse':'Married',' Married-AF-spouse':'Married'}, inplace=True)\n",
    "Marital_status.replace({' Never-married':'Not-married',' Divorced':'Not-married',\n",
    "                        ' Separated':'Not-married', ' Widowed':'Not-married',\n",
    "                        ' Married-spouse-absent':'Not-married'}, inplace=True)\n",
    "Marital_status.value_counts()"
   ]
  },
  {
   "cell_type": "code",
   "execution_count": 17,
   "metadata": {},
   "outputs": [
    {
     "data": {
      "text/plain": [
       "1    556\n",
       "0    444\n",
       "Name: Marital-status, dtype: int64"
      ]
     },
     "execution_count": 17,
     "metadata": {},
     "output_type": "execute_result"
    }
   ],
   "source": [
    "df1['Marital-status'] = df1['Marital-status'].astype('category').cat.codes\n",
    "df1['Marital-status'].value_counts()"
   ]
  },
  {
   "cell_type": "code",
   "execution_count": 18,
   "metadata": {},
   "outputs": [
    {
     "data": {
      "text/plain": [
       " Craft-repair         126\n",
       " Exec-managerial      124\n",
       " Prof-specialty       124\n",
       " Sales                112\n",
       " Other-service        108\n",
       " Adm-clerical          93\n",
       " ?                     62\n",
       " Machine-op-inspct     61\n",
       " Transport-moving      52\n",
       " Tech-support          44\n",
       " Handlers-cleaners     43\n",
       " Farming-fishing       31\n",
       " Protective-serv       16\n",
       " Priv-house-serv        3\n",
       " Armed-Forces           1\n",
       "Name: Occupation, dtype: int64"
      ]
     },
     "execution_count": 18,
     "metadata": {},
     "output_type": "execute_result"
    }
   ],
   "source": [
    "df1['Occupation'].value_counts()"
   ]
  },
  {
   "cell_type": "code",
   "execution_count": 19,
   "metadata": {},
   "outputs": [],
   "source": [
    "df1['Occupation'] = df1['Occupation'].astype('category').cat.codes"
   ]
  },
  {
   "cell_type": "markdown",
   "metadata": {},
   "source": [
    "## Change Relationship to have a child/not have a child"
   ]
  },
  {
   "cell_type": "code",
   "execution_count": 20,
   "metadata": {},
   "outputs": [
    {
     "data": {
      "text/plain": [
       " Husband           376\n",
       " Not-in-family     278\n",
       " Own-child         152\n",
       " Unmarried         109\n",
       " Wife               61\n",
       " Other-relative     24\n",
       "Name: Relationship, dtype: int64"
      ]
     },
     "execution_count": 20,
     "metadata": {},
     "output_type": "execute_result"
    }
   ],
   "source": [
    "df1['Relationship'].value_counts()"
   ]
  },
  {
   "cell_type": "code",
   "execution_count": 21,
   "metadata": {},
   "outputs": [],
   "source": [
    "df1['Relationship'].replace({' Husband':'No-child',' Not-in-family':'No-child',\n",
    "                        ' Unmarried':'No-child', ' Wife':'No-child',\n",
    "                        ' Other-relative':'No-child'}, inplace=True)"
   ]
  },
  {
   "cell_type": "code",
   "execution_count": 22,
   "metadata": {},
   "outputs": [],
   "source": [
    "df1['Relationship'] = df1['Relationship'].astype('category').cat.codes"
   ]
  },
  {
   "cell_type": "markdown",
   "metadata": {},
   "source": [
    "## Sex and Income-per-year to a category"
   ]
  },
  {
   "cell_type": "code",
   "execution_count": 23,
   "metadata": {},
   "outputs": [
    {
     "data": {
      "text/plain": [
       " Male      671\n",
       " Female    329\n",
       "Name: Sex, dtype: int64"
      ]
     },
     "execution_count": 23,
     "metadata": {},
     "output_type": "execute_result"
    }
   ],
   "source": [
    "df1['Sex'].value_counts()"
   ]
  },
  {
   "cell_type": "code",
   "execution_count": 24,
   "metadata": {},
   "outputs": [],
   "source": [
    "df1['Sex'] = df1['Sex'].astype('category').cat.codes"
   ]
  },
  {
   "cell_type": "code",
   "execution_count": 25,
   "metadata": {},
   "outputs": [
    {
     "data": {
      "text/plain": [
       " <=50K    768\n",
       " >50K     232\n",
       "Name: Income-per-year, dtype: int64"
      ]
     },
     "execution_count": 25,
     "metadata": {},
     "output_type": "execute_result"
    }
   ],
   "source": [
    "df1['Income-per-year'].value_counts()"
   ]
  },
  {
   "cell_type": "code",
   "execution_count": 26,
   "metadata": {},
   "outputs": [],
   "source": [
    "df1['Income-per-year'] = df1['Income-per-year'].astype('category').cat.codes"
   ]
  },
  {
   "cell_type": "code",
   "execution_count": 27,
   "metadata": {},
   "outputs": [
    {
     "name": "stdout",
     "output_type": "stream",
     "text": [
      "<class 'pandas.core.frame.DataFrame'>\n",
      "RangeIndex: 1000 entries, 0 to 999\n",
      "Data columns (total 11 columns):\n",
      " #   Column           Non-Null Count  Dtype\n",
      "---  ------           --------------  -----\n",
      " 0   Age              1000 non-null   int64\n",
      " 1   Workclass        1000 non-null   int8 \n",
      " 2   Education-num    1000 non-null   int64\n",
      " 3   Marital-status   1000 non-null   int8 \n",
      " 4   Occupation       1000 non-null   int8 \n",
      " 5   Relationship     1000 non-null   int8 \n",
      " 6   Sex              1000 non-null   int8 \n",
      " 7   Capital-gain     1000 non-null   int64\n",
      " 8   Capital-loss     1000 non-null   int64\n",
      " 9   Hours-per-week   1000 non-null   int64\n",
      " 10  Income-per-year  1000 non-null   int8 \n",
      "dtypes: int64(5), int8(6)\n",
      "memory usage: 45.0 KB\n"
     ]
    }
   ],
   "source": [
    "df1.info()"
   ]
  },
  {
   "cell_type": "code",
   "execution_count": 28,
   "metadata": {},
   "outputs": [
    {
     "data": {
      "text/plain": [
       "1000"
      ]
     },
     "execution_count": 28,
     "metadata": {},
     "output_type": "execute_result"
    }
   ],
   "source": [
    "len(df1)"
   ]
  },
  {
   "cell_type": "markdown",
   "metadata": {},
   "source": [
    "## Function for splitting a Dataframe"
   ]
  },
  {
   "cell_type": "code",
   "execution_count": 29,
   "metadata": {},
   "outputs": [],
   "source": [
    "def train_test_split(df, test_size=0.2):\n",
    "    \"\"\"Spits dataframe to 2 parts\n",
    "    \n",
    "    Keyword input arguments:\n",
    "    df -- Dataframe which will be splitted\n",
    "    test_size -- Proportion of the second part to the whole Dataframe\n",
    "    \n",
    "    Output:\n",
    "    df_Train -- a first created part (for training sample)\n",
    "    df_Test -- a second created part (for testing sample)\n",
    "    \n",
    "    \"\"\" \n",
    "    # Get a random sample of df, resetting it indexes\n",
    "    df = df.sample(frac=1).reset_index(drop=True)\n",
    "    df = pd.DataFrame(df)\n",
    "    size = len(df)\n",
    "    # First (size * test_size rows) is a training sample\n",
    "    # Other rows move to a testing sample\n",
    "    df_Test = df.iloc[:int(size * test_size),:]\n",
    "    df_Train = df.iloc[int(size * test_size):,:]\n",
    "    return df_Train, df_Test"
   ]
  },
  {
   "cell_type": "markdown",
   "metadata": {},
   "source": [
    "## Making training and testing samples"
   ]
  },
  {
   "cell_type": "code",
   "execution_count": 30,
   "metadata": {},
   "outputs": [],
   "source": [
    "df_train, df_test = train_test_split(df1, 0.2)\n",
    "\n",
    "df_test_Y = df_test['Income-per-year']\n",
    "df_test_X = df_test.drop(columns=['Income-per-year'])\n",
    "\n",
    "df_train_Y = df_train['Income-per-year']\n",
    "df_train_X = df_train.drop(columns=['Income-per-year'])"
   ]
  },
  {
   "attachments": {
    "image.png": {
     "image/png": "[encoded data removed]"
    }
   },
   "cell_type": "markdown",
   "metadata": {},
   "source": [
    "## Entropy Criteria\n",
    "![image.png](attachment:image.png)\n",
    "### Calculates the Entropy index for a split dataset"
   ]
  },
  {
   "cell_type": "code",
   "execution_count": 31,
   "metadata": {},
   "outputs": [],
   "source": [
    "def weighted_entropy_index(groups, value_types):\n",
    "    \"\"\"Calculates entropy index for the groups\n",
    "    \n",
    "    Keyword input arguments:\n",
    "    groups -- splitted groups, for which Entropy index is calculated, of type (X1,X2,..,XN, Y)\n",
    "    value_types -- All possible classes of results (as a set) - for classificaton -> {0, 1}\n",
    "    \n",
    "    Output:\n",
    "    entropy -- a weighted entropy criteria based on sizes of groups\n",
    "    \n",
    "    \"\"\" \n",
    "    # count all given samples\n",
    "    count_samples = sum([len(group) for group in groups])\n",
    "    # sum weighted Entropy for each group\n",
    "    entropy = 0.0\n",
    "    for group in groups:\n",
    "        size = float(len(group))\n",
    "        # if values in group do not exist -> next iteration\n",
    "        if size == 0:\n",
    "            continue\n",
    "        # score - a score of the current group\n",
    "        score = 0.0\n",
    "        # score the group based on the score for each class\n",
    "        for val in value_types:\n",
    "            # count_val is the count of current class for current group\n",
    "            count_val = 0.0\n",
    "            for row in group:\n",
    "                # row[-1] is Y[row]\n",
    "                if row[-1] == val:\n",
    "                    count_val += 1\n",
    "            # ratio_val is proportion of current class in the whole group\n",
    "            ratio_val = count_val/size\n",
    "            # if a class does not exist in a group - score doesn't change\n",
    "            if count_val == 0:\n",
    "                score -= 0\n",
    "            # update score of the group according to Entropy formula\n",
    "            else:\n",
    "                score -= ratio_val * math.log2(ratio_val)\n",
    "        # Getting weighted Entropy Index depending on size of group\n",
    "        entropy += score * (size / float(count_samples))\n",
    "    return entropy"
   ]
  },
  {
   "cell_type": "markdown",
   "metadata": {},
   "source": [
    "## Splits for a decision tree based on Entropy Criteria\n",
    "### Split a sample based on an attribute value"
   ]
  },
  {
   "cell_type": "code",
   "execution_count": 32,
   "metadata": {},
   "outputs": [],
   "source": [
    "def make_split(column, value, training_list):\n",
    "    \"\"\"Splits a sample based on value of column\n",
    "    \n",
    "    Keyword input arguments:\n",
    "    column -- attribute, on value of which split is made\n",
    "    value -- a value of column, with which every row[column] is compared\n",
    "    training_list -- a sample (dataset) which is splitted\n",
    "    \n",
    "    Output:\n",
    "    left_child -- first group of split, where row[column] < value\n",
    "    right_child -- second group of split, where row[column] > value\n",
    "    \n",
    "    \"\"\" \n",
    "    left_child = list()\n",
    "    right_child = list()\n",
    "    # go through all rows and compare their values with 'value'\n",
    "    for row in training_list:\n",
    "        if row[column] < value:\n",
    "            left_child.append(row)\n",
    "        else:\n",
    "            right_child.append(row)\n",
    "    return left_child, right_child"
   ]
  },
  {
   "cell_type": "markdown",
   "metadata": {},
   "source": [
    "### Get the best split point based on entropy criteria"
   ]
  },
  {
   "cell_type": "code",
   "execution_count": 40,
   "metadata": {},
   "outputs": [],
   "source": [
    "def take_best_split(training_list, count_features):\n",
    "    \"\"\"Finds the best possible split based on entropy\n",
    "    \n",
    "    Keyword input arguments:\n",
    "    training_list -- a dataset of type (X1,X2,..,XN, Y)\n",
    "    count_features -- a count of all columns which can be used for splitting\n",
    "    \n",
    "    Output:\n",
    "    Dictionary:\n",
    "        column -- best column used for splitting (used for printing a Tree, and predicting)\n",
    "        val -- best value of column for splitting (used for printing a Tree, and predicting)\n",
    "        groups -- left and right childs\n",
    "    \n",
    "    \"\"\" \n",
    "    # value_types is a set of all possible classes of Y -- for classification {0, 1}\n",
    "    value_types = list(set(result[-1] for result in training_list))\n",
    "    \n",
    "    # columns -- chosen columns for splitting\n",
    "    columns = list()\n",
    "    # take random (count_features) columns from all possible columns (except Y)\n",
    "    while (len(columns) < count_features):\n",
    "        ind = random.randint(0, len(training_list[0]) - 2)\n",
    "        # add random index of column to 'columns' if it is not already added\n",
    "        if ind not in columns:\n",
    "            columns.append(ind)\n",
    "    \n",
    "    # best_column - best column for splitting\n",
    "    best_column = -1\n",
    "    # best_value - best value of column, which should \n",
    "    # be used for splitting a dataset into left and right ones\n",
    "    best_value = -1\n",
    "    # best_entropy - best entropy parameter\n",
    "    best_entropy = 10000000\n",
    "    # best_groups - left and right parts of tree\n",
    "    best_groups = None\n",
    "    \n",
    "    # go through all columns and rows and get the best entropy value and, thus, best split\n",
    "    for column in columns: #for all columns except value-attribute\n",
    "        # go through every row and take 'value' as row[column]\n",
    "        for row in training_list:\n",
    "            # make groups and calculate weighted entropy for them\n",
    "            groups = make_split(column, row[column], training_list)\n",
    "            entropy = weighted_entropy_index(groups, value_types)\n",
    "            # if entropy is better update best parameters\n",
    "            if entropy < best_entropy:\n",
    "                best_column = column\n",
    "                best_value = row[column]\n",
    "                best_entropy = entropy\n",
    "                best_groups = groups\n",
    "                \n",
    "    return {'column':best_column, 'val':best_value, 'groups':best_groups}"
   ]
  },
  {
   "cell_type": "markdown",
   "metadata": {},
   "source": [
    "### Creating Random Sample"
   ]
  },
  {
   "cell_type": "code",
   "execution_count": 34,
   "metadata": {},
   "outputs": [],
   "source": [
    "def get_random_sample(training_list, rows_count=0):\n",
    "    \"\"\"Get a random sample of N rows from training_list with repetition\n",
    "    A new sample can even have more rows than training_list has\n",
    "    \n",
    "    Keyword input arguments:\n",
    "    training_list -- a dataset of type (X1,X2,..,XN, Y)\n",
    "    rows_count -- a count of rows which will represent a size of a random sample\n",
    "    \n",
    "    Output:\n",
    "    new_list -- a new random sample of (rows_count) rows\n",
    "    \n",
    "    \"\"\"\n",
    "    # function allows dublicate rows\n",
    "    new_list = list()\n",
    "    # If count of rows is zero return back input list\n",
    "    if rows_count == 0:\n",
    "        return training_list\n",
    "    while (len(new_list)<rows_count):\n",
    "        ind = random.randint(0, len(training_list) - 1)\n",
    "        new_list.append(training_list[ind])\n",
    "    return new_list"
   ]
  },
  {
   "cell_type": "markdown",
   "metadata": {},
   "source": [
    "## Creating a Decision tree based on ordinary nodes and terminal nodes (leaves)\n",
    "### A leaf should be created in such cases:\n",
    "### 1) If one of the groups is empty\n",
    "### 2) If current depth is greater than Max(depth)\n",
    "### 3) If size of a leaf (count of entries) is less than Min(size)"
   ]
  },
  {
   "cell_type": "markdown",
   "metadata": {},
   "source": [
    "## Making a leaf"
   ]
  },
  {
   "cell_type": "code",
   "execution_count": 35,
   "metadata": {},
   "outputs": [],
   "source": [
    "def make_leaf(group):\n",
    "    \"\"\"Making a leaf (terminal node)\n",
    "    \n",
    "    Keyword input arguments:\n",
    "    group -- a dataset of type (X1,X2,..,XN, Y), represent all rows in a current group\n",
    "    \n",
    "    Output:\n",
    "    chosen_option -- the most widely-spread value\n",
    "    \n",
    "    \"\"\"\n",
    "    classes = list()\n",
    "    # take all gotten values in Y\n",
    "    for row in group:\n",
    "        classes.append(row[-1])\n",
    "    # sort all values descending by their count in classes\n",
    "    values = sorted(set(classes), key = classes.count, reverse=True)\n",
    "    # Choose the most possible class (option/result)\n",
    "    chosen_option = values[0]\n",
    "    \n",
    "    return chosen_option"
   ]
  },
  {
   "cell_type": "markdown",
   "metadata": {},
   "source": [
    "## Splitting current node on left and right ones"
   ]
  },
  {
   "cell_type": "code",
   "execution_count": 36,
   "metadata": {},
   "outputs": [],
   "source": [
    "def recursive_split_node(node, max_depth, min_leaf_size, depth, count_features):\n",
    "    \"\"\"Making splits until reaches max_depth or min_leaf_size of a leaf\n",
    "    \n",
    "    Keyword input arguments:\n",
    "    node -- a current node of the tree\n",
    "    max_depth -- a hyperparameter for a tree, shows maximum possible depth of the tree\n",
    "    min_size -- a hyperparameter for a tree, shows minimal size of a leaf (min count of rows in a leaf)\n",
    "    depth -- a current depth to monitor reaching max_depth\n",
    "    count_features -- a hyperparameter for a tree, shows count of features used for splitting a node\n",
    "    \n",
    "    Output:\n",
    "    -/-\n",
    "    \n",
    "    \"\"\"\n",
    "    l_child, r_child = node['groups']\n",
    "    del(node['groups'])\n",
    "    # if one group is empty, make a leaf\n",
    "    # and if size of a group is less than min_size then also make a leaf\n",
    "    if (len(l_child)<min_leaf_size) or (len(r_child)<min_leaf_size):  \n",
    "        # can be replaced by 'not l_child or not r_child'\n",
    "        # to restrict a size of node - not a leaf\n",
    "        node['left'] = node['right'] = make_leaf(l_child + r_child)\n",
    "        return\n",
    "    \n",
    "    # if current depth is greater than max_depth, then make terminal nodes\n",
    "    if depth >= max_depth:\n",
    "        node['left'] = make_leaf(l_child)\n",
    "        node['right'] = make_leaf(r_child)\n",
    "        return\n",
    "    \n",
    "    # execute left group\n",
    "    # if size of left child equals to min_size, then make a leaf\n",
    "    if len(l_child) == min_leaf_size:\n",
    "        node['left'] = make_leaf(l_child)\n",
    "    # if size of left child greater than min_size, then make an ordinary node for next split\n",
    "    else:\n",
    "        node['left'] = take_best_split(l_child, count_features)\n",
    "        recursive_split_node(node['left'], max_depth, min_leaf_size, depth+1, count_features)\n",
    "    \n",
    "    # execute right group\n",
    "    # if size of right child less than min_size, then make terminal node\n",
    "    if len(r_child) == min_leaf_size:\n",
    "        node['right'] = make_leaf(r_child)\n",
    "    # if size of right child greater than min_size, then make an ordinary node for next split\n",
    "    else:\n",
    "        node['right'] = take_best_split(r_child, count_features)\n",
    "        recursive_split_node(node['right'], max_depth, min_leaf_size, depth+1, count_features)"
   ]
  },
  {
   "cell_type": "markdown",
   "metadata": {},
   "source": [
    "## Training a decision tree"
   ]
  },
  {
   "cell_type": "code",
   "execution_count": 37,
   "metadata": {},
   "outputs": [],
   "source": [
    "def trainTREE(train_X, train_Y, max_depth=5, min_size=20, count_features=0, count_rows_in_sample=0):\n",
    "    \"\"\"Builds a decision tree, based on params\n",
    "    \n",
    "    Keyword input arguments:\n",
    "    max_depth -- Maximum depth of the tree\n",
    "    min_size -- Minimum size in a leaf to continue splitting nodes\n",
    "    trainX -- training sample which contains only features (X)\n",
    "    trainY -- training sample which contains obly results (Y)\n",
    "    count_features -- count of columns which can be used to split a node\n",
    "    \n",
    "    Output:\n",
    "    root -- a created decision tree\n",
    "    \n",
    "    \"\"\"   \n",
    "    # change type of training_list and training_results to list()\n",
    "    training_list = train_X.values.tolist()\n",
    "    training_results = train_Y.values.tolist()\n",
    "    # if count_features isn't given -> take all features\n",
    "    if (count_features == 0):\n",
    "        count_features = len(training_list[0])\n",
    "    # unite training_list and training_results\n",
    "    for i in range(len(training_results)):\n",
    "        training_list[i].append(training_results[i])\n",
    "    # Get a random sample\n",
    "    # if count_rows_in_sample is 0 than returned sample is training_list\n",
    "    training_list = get_random_sample(training_list, count_rows_in_sample)\n",
    "    # make first node\n",
    "    root = take_best_split(training_list,count_features)\n",
    "    # splitting a node until reaches 'stop-parameters'\n",
    "    recursive_split_node(root, max_depth, min_size, 1, count_features)\n",
    "    return root"
   ]
  },
  {
   "cell_type": "markdown",
   "metadata": {},
   "source": [
    "## Printing a decision tree for illustration of work"
   ]
  },
  {
   "cell_type": "markdown",
   "metadata": {},
   "source": [
    "### Training and printing the tree"
   ]
  },
  {
   "cell_type": "code",
   "execution_count": 41,
   "metadata": {},
   "outputs": [],
   "source": [
    "tree = trainTREE(df_train_X, df_train_Y, 5, 10)"
   ]
  },
  {
   "cell_type": "markdown",
   "metadata": {},
   "source": [
    "## Making predictions based on created TREE model\n",
    "### For each row in dataset func 'PredictTREE' predicts the result by going through created tree"
   ]
  },
  {
   "cell_type": "code",
   "execution_count": 43,
   "metadata": {},
   "outputs": [],
   "source": [
    "def predictTREE(root, test):\n",
    "    \"\"\"Predicts results for given tree\n",
    "    \n",
    "    Keyword input arguments:\n",
    "    root -- a trained model -> a root of the tree\n",
    "    test -- list of (X1,X2,..,XN) for which it makes prediction\n",
    "    \n",
    "    Output:\n",
    "    result_list -- a list of (Y) -> results of prediction\n",
    "    \n",
    "    \"\"\"\n",
    "    # Make a list of lists from 'test'\n",
    "    testing_list = test.values.tolist()\n",
    "    result_list = []\n",
    "    # Predict value for each row\n",
    "    for row in testing_list:\n",
    "        result_list.append(predictTREE_Row(root, row))\n",
    "    return result_list"
   ]
  },
  {
   "cell_type": "code",
   "execution_count": 44,
   "metadata": {},
   "outputs": [],
   "source": [
    "def predictTREE_Row(node, row):\n",
    "    \"\"\"Predicts recursively results for a row\n",
    "    \n",
    "    Keyword input arguments:\n",
    "    node -- a current node the tree\n",
    "    row -- a row (X1,X2,..,XN) for which it makes prediction\n",
    "    \n",
    "    Output:\n",
    "    returns result Y\n",
    "    \n",
    "    \"\"\"\n",
    "    # go recursively through the tree until function reaches a terminal node (a leaf) - it will be a result\n",
    "    # Choosing the path, where to go: left or right, depending on value\n",
    "    if row[node['column']] < node['val']:\n",
    "        # check that node['left'] is not a leaf -> then go deeper\n",
    "        if isinstance(node['left'], dict):\n",
    "            return predictTREE_Row(node['left'], row)\n",
    "        # if node['left'] is a leaf -> return its value\n",
    "        else:\n",
    "            return node['left']\n",
    "    else:\n",
    "        # check that node['right'] is not a leaf -> then go deeper\n",
    "        if isinstance(node['right'], dict):\n",
    "            return predictTREE_Row(node['right'], row)\n",
    "        # if node['right'] is a leaf -> return its value\n",
    "        else:\n",
    "            return node['right']"
   ]
  },
  {
   "cell_type": "code",
   "execution_count": 45,
   "metadata": {},
   "outputs": [],
   "source": [
    "results = predictTREE(tree, df_test_X)"
   ]
  },
  {
   "cell_type": "markdown",
   "metadata": {},
   "source": [
    "## Function for getting the percentage of correct answers to evaluate created model"
   ]
  },
  {
   "cell_type": "code",
   "execution_count": 46,
   "metadata": {},
   "outputs": [],
   "source": [
    "# get percentage of correct answers\n",
    "def checkScore(list1, list2):\n",
    "    correct = 0.0\n",
    "    for i in range(len(list1)):\n",
    "        if list1[i] == list2[i]:\n",
    "            correct+=1\n",
    "    return correct/len(list1)"
   ]
  },
  {
   "cell_type": "code",
   "execution_count": 47,
   "metadata": {},
   "outputs": [
    {
     "data": {
      "text/plain": [
       "0.835"
      ]
     },
     "execution_count": 47,
     "metadata": {},
     "output_type": "execute_result"
    }
   ],
   "source": [
    "checkScore(results, list(df_test_Y))"
   ]
  },
  {
   "cell_type": "markdown",
   "metadata": {},
   "source": [
    "## Function for getting AUC, True-Positive-Rate, False-Positive-Rate\n",
    "1. вычислить количество представителей классов +1 и -1 в выборке;\n",
    "2. упорядочить выборку X^m по убыванию значений f(x_i,w);\n",
    "3. установить начальную точку ROC-кривой;\n",
    "4. для всех  i:=1..m \n",
    "     если (y_i = -1), то сместиться на один шаг вправо;\n",
    "5.   иначе сместиться на один шаг вверх;"
   ]
  },
  {
   "cell_type": "code",
   "execution_count": 48,
   "metadata": {},
   "outputs": [],
   "source": [
    "def getMetrics(y_test, y_predicted):\n",
    "    \"\"\"Gets AUC, True Positive Rate and False Positive Rate\n",
    "    \n",
    "    Keyword input arguments:\n",
    "    y_test -- List of testing results\n",
    "    y_predicted -- List of predicted results\n",
    "    \n",
    "    Output:\n",
    "    tpr -- True Positive Rate\n",
    "    fpr -- False Positive Rate\n",
    "    auc -- AUC, which means Area Under ROC-Curve\n",
    "    \n",
    "    \"\"\"    \n",
    "    # total_count -- count of all entries (rows)\n",
    "    total_count = len(y_test)\n",
    "    # test_neg_count -- count of '0' results in testing sample\n",
    "    # test_pos_count -- count of '1' results in testing sample\n",
    "    test_neg_count, test_pos_count = 0, 0\n",
    "    # Getting positive and negative counts\n",
    "    for val in y_test:\n",
    "        if val == 1:\n",
    "            test_pos_count += 1\n",
    "        else:\n",
    "            test_neg_count += 1\n",
    "    fpr=[]\n",
    "    tpr=[]\n",
    "    auc = 0\n",
    "    # making first point (0,0)\n",
    "    fpr.append(0)\n",
    "    tpr.append(0)\n",
    "    # y_list -- sorted 'y_test' by descending results of y_predicted\n",
    "    y_list=[]   \n",
    "    for i in range(total_count):\n",
    "        if y_predicted[i] == 0:\n",
    "            y_list.append(y_test[i])\n",
    "        else:\n",
    "            y_list.insert(0, y_test[i])\n",
    "    # Making points ROC-curve depending on y_list result\n",
    "    # Calculating AUC\n",
    "    for i in range(total_count):\n",
    "        # Step to the right\n",
    "        if y_list[i] == 0:\n",
    "            fpr.append(fpr[i]+1/test_neg_count)\n",
    "            tpr.append(tpr[i])\n",
    "            auc = auc + tpr[i+1]/test_neg_count\n",
    "        # Step up\n",
    "        else:\n",
    "            fpr.append(fpr[i])\n",
    "            tpr.append(tpr[i]+1/test_pos_count)\n",
    "    return tpr, fpr, auc"
   ]
  },
  {
   "cell_type": "markdown",
   "metadata": {},
   "source": [
    "### Построение ROC-кривой и подсчет AUC с помощью описанной выше функции"
   ]
  },
  {
   "cell_type": "code",
   "execution_count": 49,
   "metadata": {},
   "outputs": [],
   "source": [
    "tpr, fpr, auc = getMetrics(list(df_test_Y), results)"
   ]
  },
  {
   "cell_type": "code",
   "execution_count": 50,
   "metadata": {},
   "outputs": [
    {
     "data": {
      "image/png": "[encoded data removed]",
      "text/plain": [
       "<Figure size 432x288 with 1 Axes>"
      ]
     },
     "metadata": {
      "needs_background": "light"
     },
     "output_type": "display_data"
    }
   ],
   "source": [
    "plt.plot(fpr, tpr, label='auc='+str(auc))\n",
    "plt.plot([0, 1], [0, 1], linestyle='--')\n",
    "plt.legend()\n",
    "plt.show()"
   ]
  },
  {
   "cell_type": "markdown",
   "metadata": {},
   "source": [
    "### Checking the results with sklearn"
   ]
  },
  {
   "cell_type": "code",
   "execution_count": 51,
   "metadata": {},
   "outputs": [],
   "source": [
    "from sklearn.metrics import roc_curve\n",
    "from sklearn.metrics import roc_auc_score\n",
    "\n",
    "auc = roc_auc_score(list(df_test_Y), results)"
   ]
  },
  {
   "cell_type": "code",
   "execution_count": 52,
   "metadata": {},
   "outputs": [
    {
     "name": "stdout",
     "output_type": "stream",
     "text": [
      "0.7251552795031057\n"
     ]
    }
   ],
   "source": [
    "print(auc)"
   ]
  },
  {
   "cell_type": "code",
   "execution_count": 53,
   "metadata": {},
   "outputs": [
    {
     "data": {
      "image/png": "[encoded data removed]",
      "text/plain": [
       "<Figure size 432x288 with 1 Axes>"
      ]
     },
     "metadata": {
      "needs_background": "light"
     },
     "output_type": "display_data"
    }
   ],
   "source": [
    "fpr, tpr, thresholds = roc_curve(list(df_test_Y), results)\n",
    "plt.plot(fpr, tpr, marker='.')\n",
    "plt.show()"
   ]
  },
  {
   "cell_type": "markdown",
   "metadata": {},
   "source": [
    "## Making RND training and prediction"
   ]
  },
  {
   "cell_type": "code",
   "execution_count": 54,
   "metadata": {},
   "outputs": [],
   "source": [
    "def trainRND(train_X, trainY):\n",
    "    \"\"\"Gets proportion of positive and negative results\n",
    "    \n",
    "    Keyword input arguments:\n",
    "    train_X -- training dataframe (X1, X2, .., XN)\n",
    "    trainY -- results for training dataframe (Y)\n",
    "    \n",
    "    Output:\n",
    "    float(negatives)/total_count -- proportion of negative results in a sample\n",
    "    float(positives)/total_count -- proportion of positive results in a sample\n",
    "    \n",
    "    \"\"\" \n",
    "    training_list = trainY.values.tolist()\n",
    "    total_count = len(training_list)\n",
    "    negatives = 0\n",
    "    positives = 0\n",
    "    for val in training_list:\n",
    "        if val != 1:\n",
    "            negatives += 1\n",
    "        else:\n",
    "            positives += 1\n",
    "    return float(negatives)/total_count, float(positives)/total_count"
   ]
  },
  {
   "cell_type": "code",
   "execution_count": 55,
   "metadata": {},
   "outputs": [],
   "source": [
    "def predictRND(chances, variants, X):\n",
    "    \"\"\"Randomly generates results based on proportion of results\n",
    "    \n",
    "    Keyword input arguments:\n",
    "    chances -- proportion of results (type: list)\n",
    "    variants -- all posible variations of results\n",
    "    X -- training dataframe (X1, X2, .., XN)\n",
    "    \n",
    "    Output:\n",
    "    float(negatives)/total_count -- proportion of negative results in a sample\n",
    "    float(positives)/total_count -- proportion of positive results in a sample\n",
    "    \n",
    "    \"\"\"\n",
    "    result = list()\n",
    "    X = X.values.tolist()\n",
    "    for row in X:\n",
    "        result.append(numpy.random.choice(variants, p=[chances[0], chances[1]]))\n",
    "    return result"
   ]
  },
  {
   "cell_type": "markdown",
   "metadata": {},
   "source": [
    "## Checking work of RND"
   ]
  },
  {
   "cell_type": "code",
   "execution_count": 56,
   "metadata": {},
   "outputs": [],
   "source": [
    "modelRND = trainRND(df_train_X, df_train_Y)"
   ]
  },
  {
   "cell_type": "code",
   "execution_count": 57,
   "metadata": {},
   "outputs": [],
   "source": [
    "RND_results = predictRND(modelRND, [0, 1] , df_test_X)"
   ]
  },
  {
   "cell_type": "code",
   "execution_count": 58,
   "metadata": {},
   "outputs": [],
   "source": [
    "tpr, fpr, auc = getMetrics(list(df_test_Y), RND_results)"
   ]
  },
  {
   "cell_type": "code",
   "execution_count": 59,
   "metadata": {},
   "outputs": [
    {
     "data": {
      "image/png": "[encoded data removed]",
      "text/plain": [
       "<Figure size 432x288 with 1 Axes>"
      ]
     },
     "metadata": {
      "needs_background": "light"
     },
     "output_type": "display_data"
    }
   ],
   "source": [
    "plt.plot(fpr, tpr, label='auc='+str(auc))\n",
    "plt.plot([0, 1], [0, 1], linestyle='--')\n",
    "plt.legend()\n",
    "plt.show()"
   ]
  },
  {
   "cell_type": "markdown",
   "metadata": {},
   "source": [
    "# Model 2"
   ]
  },
  {
   "cell_type": "markdown",
   "metadata": {},
   "source": [
    "## Functions for training and predicting Random Forest"
   ]
  },
  {
   "cell_type": "code",
   "execution_count": 60,
   "metadata": {},
   "outputs": [],
   "source": [
    "def trainRANDOM_FOREST(train_X, train_Y, max_depth=5, min_size=20, count_features=0, \n",
    "                   count_trees=1, count_rows_in_sample=0):\n",
    "    \"\"\"Builds random forest and trains a model\n",
    "    \n",
    "    Keyword input arguments:\n",
    "    max_depth -- Maximum depth of the tree\n",
    "    min_size -- Minimum size in a leaf to continue splitting nodes\n",
    "    trainX -- training sample which contains only features (X)\n",
    "    trainY -- training sample which contains obly results (Y)\n",
    "    count_features -- count of columns which can be used to split a node\n",
    "    count_trees -- count of total trees created by function\n",
    "    count_rows_in_sample -- count rows used to train one tree\n",
    "    \n",
    "    Output:\n",
    "    forest -- a list of trees, generated by the fuction, represents a model\n",
    "    \n",
    "    \"\"\"    \n",
    "    forest = list()\n",
    "    for i in range(count_trees):\n",
    "        forest.append(trainTREE(train_X, train_Y, max_depth, \n",
    "                                 min_size, count_features, count_rows_in_sample))\n",
    "    return forest"
   ]
  },
  {
   "cell_type": "code",
   "execution_count": 61,
   "metadata": {},
   "outputs": [],
   "source": [
    "def predictRANDOM_FOREST(forest, test_X):\n",
    "    \"\"\"Predicts results on list of rows\n",
    "    \n",
    "    Keyword input arguments:\n",
    "    forest -- a model, represents list of trees (got by random forest)\n",
    "    test_X -- testing sample which contains only features (X)\n",
    "    \n",
    "    Output:\n",
    "    final_results -- a list of calculated results\n",
    "    \n",
    "    \"\"\"  \n",
    "    # Get answer from every tree\n",
    "    recieved_answers = list()\n",
    "    for tree in forest:\n",
    "        recieved_answers.append(predictTREE(tree, test_X))\n",
    "    # Determine a 'most popular' result for every row\n",
    "    final_results = list()\n",
    "    for i in range(len(test_X)):\n",
    "        answer = list()\n",
    "        for row in recieved_answers:\n",
    "            answer.append(row[i])\n",
    "        final_results.append(max(set(answer), key=answer.count))\n",
    "    return final_results"
   ]
  },
  {
   "cell_type": "markdown",
   "metadata": {},
   "source": [
    "## Checking results of Random Forest"
   ]
  },
  {
   "cell_type": "code",
   "execution_count": 62,
   "metadata": {},
   "outputs": [],
   "source": [
    "forest = trainRANDOM_FOREST(df_train_X, df_train_Y, 10, 5, 4, 15, 800)"
   ]
  },
  {
   "cell_type": "code",
   "execution_count": 63,
   "metadata": {},
   "outputs": [],
   "source": [
    "forest_results = predictRANDOM_FOREST(forest, df_test_X)"
   ]
  },
  {
   "cell_type": "code",
   "execution_count": 64,
   "metadata": {},
   "outputs": [],
   "source": [
    "tpr, fpr, auc = getMetrics(list(df_test_Y), forest_results)"
   ]
  },
  {
   "cell_type": "code",
   "execution_count": 65,
   "metadata": {},
   "outputs": [
    {
     "data": {
      "image/png": "[encoded data removed]",
      "text/plain": [
       "<Figure size 432x288 with 1 Axes>"
      ]
     },
     "metadata": {
      "needs_background": "light"
     },
     "output_type": "display_data"
    }
   ],
   "source": [
    "plt.plot(fpr, tpr, label='auc='+str(auc))\n",
    "plt.plot([0, 1], [0, 1], linestyle='--')\n",
    "plt.legend()\n",
    "plt.show()"
   ]
  },
  {
   "cell_type": "code",
   "execution_count": 66,
   "metadata": {},
   "outputs": [
    {
     "data": {
      "text/plain": [
       "0.855"
      ]
     },
     "execution_count": 66,
     "metadata": {},
     "output_type": "execute_result"
    }
   ],
   "source": [
    "checkScore(forest_results, list(df_test_Y))"
   ]
  },
  {
   "cell_type": "markdown",
   "metadata": {},
   "source": [
    "# Model 3 - GBM"
   ]
  },
  {
   "cell_type": "code",
   "execution_count": 67,
   "metadata": {},
   "outputs": [],
   "source": [
    "from sklearn.tree import DecisionTreeRegressor"
   ]
  },
  {
   "cell_type": "markdown",
   "metadata": {},
   "source": [
    "### Change Y from {0, 1} to {-1, 1}"
   ]
  },
  {
   "cell_type": "code",
   "execution_count": 68,
   "metadata": {},
   "outputs": [],
   "source": [
    "df1_train, df1_test = train_test_split(df1, 0.2)\n",
    "\n",
    "df1_test_Y = df1_test['Income-per-year']\n",
    "df1_test_X = df1_test.drop(columns=['Income-per-year'])\n",
    "\n",
    "df1_train_Y = df1_train['Income-per-year']\n",
    "df1_train_X = df1_train.drop(columns=['Income-per-year'])\n",
    "\n",
    "df1_train_Y = df1_train_Y.replace(to_replace=0, value=-1)\n",
    "df1_test_Y = df1_test_Y.replace(to_replace=0, value=-1)\n",
    "\n",
    "df1_train_Y=df1_train_Y.to_frame()\n",
    "df1_test_Y=df1_test_Y.to_frame()"
   ]
  },
  {
   "cell_type": "markdown",
   "metadata": {},
   "source": [
    "## Training and testing boosting"
   ]
  },
  {
   "cell_type": "code",
   "execution_count": 69,
   "metadata": {},
   "outputs": [],
   "source": [
    "def trainGBM(X, Y, M):\n",
    "    \"\"\"Makes gradient boosting for regression trees\n",
    "    \n",
    "    Keyword input arguments:\n",
    "    X -- training sample which contains only features (X)\n",
    "    Y -- training sample which contains obly results (Y) -> {-1, +1}\n",
    "    M -- count of iterations\n",
    "    \n",
    "    Output:\n",
    "    trees -- a model, generated by gradient boosting, consists of trees\n",
    "    \"\"\"\n",
    "    # Starting values are random {-1, 1}\n",
    "    # f_x is a list of current values\n",
    "    f_x = predictRND((0.5, 0.5),[-1, 1], X)\n",
    "    trees = list()\n",
    "    # make Y as a list\n",
    "    Y = Y[Y.columns[0]].values.tolist()\n",
    "    # make M iterations for GBM\n",
    "    for i in range(M):\n",
    "        # gradient - a list for gradients for all rows\n",
    "        gradient = list()\n",
    "        for j in range(len(f_x)):\n",
    "            # logistic loss already includes a negative sign\n",
    "            logistic_loss = -2 * Y[j] * math.exp(-2 * f_x[j] * Y[j]) / (1 + math.exp(-2 * f_x[j] * Y[j]))\n",
    "            gradient.append(-logistic_loss)\n",
    "        # fit model to gradient\n",
    "        tree = DecisionTreeRegressor(max_depth=5)\n",
    "        model_am = tree.fit(X, gradient)\n",
    "        # append a created model to list of trees\n",
    "        trees.append(model_am)\n",
    "        # get predictions and change values of f_x with a step = 0.2\n",
    "        am = model_am.predict(X)\n",
    "        for j in range(len(f_x)):\n",
    "            f_x[j] = f_x[j] + 0.2 * am[j]\n",
    "    return trees"
   ]
  },
  {
   "cell_type": "code",
   "execution_count": 70,
   "metadata": {},
   "outputs": [],
   "source": [
    "def predictGBM(model, X):\n",
    "    \"\"\"Predicts with gradient boosting for regression trees\n",
    "    \n",
    "    Keyword input arguments:\n",
    "    X -- sample which contains only features (X)\n",
    "    model -- a model, generated by gradient boosting, consists of trees\n",
    "    \n",
    "    Output:\n",
    "    Y -- predicted results\n",
    "    \n",
    "    \"\"\"\n",
    "    # Starting values are random {-1, 1}\n",
    "    Y = predictRND((0.5, 0.5), [-1, 1], X)\n",
    "    # go through all trees in model and update predictions\n",
    "    for i in range(len(model)):\n",
    "        Y += 0.2 * model[i].predict(X)\n",
    "    result = list()\n",
    "    # implement logit-transformation\n",
    "    for i in range(len(Y)):\n",
    "        Y[i] = 1 / (1 + math.exp(-Y[i]))\n",
    "        result.append(int(round(Y[i])))\n",
    "    return result"
   ]
  },
  {
   "cell_type": "markdown",
   "metadata": {},
   "source": [
    "## Checking a model"
   ]
  },
  {
   "cell_type": "code",
   "execution_count": 71,
   "metadata": {},
   "outputs": [],
   "source": [
    "modelGBM = trainGBM(df1_train_X, df1_train_Y, 1000)"
   ]
  },
  {
   "cell_type": "code",
   "execution_count": 72,
   "metadata": {},
   "outputs": [],
   "source": [
    "resultGBM = predictGBM(modelGBM, df1_test_X)"
   ]
  },
  {
   "cell_type": "code",
   "execution_count": 73,
   "metadata": {},
   "outputs": [
    {
     "data": {
      "text/plain": [
       "0.82"
      ]
     },
     "execution_count": 73,
     "metadata": {},
     "output_type": "execute_result"
    }
   ],
   "source": [
    "testing_Y = df1_test_Y.replace(to_replace=-1, value=0)\n",
    "\n",
    "tpr, fpr, auc = getMetrics(testing_Y[testing_Y.columns[0]].values.tolist(), resultGBM)\n",
    "checkScore(resultGBM, list(testing_Y[testing_Y.columns[0]].values.tolist()))"
   ]
  },
  {
   "cell_type": "code",
   "execution_count": 74,
   "metadata": {},
   "outputs": [
    {
     "data": {
      "image/png": "[encoded data removed]",
      "text/plain": [
       "<Figure size 432x288 with 1 Axes>"
      ]
     },
     "metadata": {
      "needs_background": "light"
     },
     "output_type": "display_data"
    }
   ],
   "source": [
    "plt.plot(fpr, tpr, label='auc='+str(auc))\n",
    "plt.plot([0, 1], [0, 1], linestyle='--')\n",
    "plt.legend()\n",
    "plt.show()"
   ]
  },
  {
   "cell_type": "code",
   "execution_count": null,
   "metadata": {},
   "outputs": [],
   "source": []
  }
 ],
 "metadata": {
  "kernelspec": {
   "display_name": "Python 3",
   "language": "python",
   "name": "python3"
  },
  "language_info": {
   "codemirror_mode": {
    "name": "ipython",
    "version": 3
   },
   "file_extension": ".py",
   "mimetype": "text/x-python",
   "name": "python",
   "nbconvert_exporter": "python",
   "pygments_lexer": "ipython3",
   "version": "3.8.1"
  }
 },
 "nbformat": 4,
 "nbformat_minor": 4
}
