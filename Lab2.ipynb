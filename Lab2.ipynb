{
 "cells": [
  {
   "cell_type": "markdown",
   "metadata": {},
   "source": [
    "# Чтение и подготовка данных"
   ]
  },
  {
   "cell_type": "code",
   "execution_count": 88,
   "metadata": {},
   "outputs": [],
   "source": [
    "import math\n",
    "import random\n",
    "\n",
    "import pandas as pd\n",
    "import matplotlib.pyplot as plt"
   ]
  },
  {
   "cell_type": "code",
   "execution_count": 4,
   "metadata": {},
   "outputs": [],
   "source": [
    "df1 = pd.read_csv('Data.csv', sep=',')"
   ]
  },
  {
   "cell_type": "code",
   "execution_count": 45,
   "metadata": {},
   "outputs": [],
   "source": [
    "df1 = df1[:600]"
   ]
  },
  {
   "cell_type": "code",
   "execution_count": 46,
   "metadata": {},
   "outputs": [
    {
     "name": "stdout",
     "output_type": "stream",
     "text": [
      "<class 'pandas.core.frame.DataFrame'>\n",
      "RangeIndex: 600 entries, 0 to 599\n",
      "Data columns (total 15 columns):\n",
      " #   Column           Non-Null Count  Dtype\n",
      "---  ------           --------------  -----\n",
      " 0   Age              600 non-null    int64\n",
      " 1   Workclass        600 non-null    int8 \n",
      " 2   Fnlwgt           600 non-null    int64\n",
      " 3   Education        600 non-null    int8 \n",
      " 4   Education-num    600 non-null    int64\n",
      " 5   Marital-status   600 non-null    int8 \n",
      " 6   Occupation       600 non-null    int8 \n",
      " 7   Relationship     600 non-null    int8 \n",
      " 8   Race             600 non-null    int8 \n",
      " 9   Sex              600 non-null    int8 \n",
      " 10  Capital-gain     600 non-null    int64\n",
      " 11  Capital-loss     600 non-null    int64\n",
      " 12  Hours-per-week   600 non-null    int64\n",
      " 13  Native-Country   600 non-null    int8 \n",
      " 14  Income-per-year  600 non-null    int8 \n",
      "dtypes: int64(6), int8(9)\n",
      "memory usage: 33.5 KB\n"
     ]
    }
   ],
   "source": [
    "df1.info()"
   ]
  },
  {
   "cell_type": "code",
   "execution_count": 47,
   "metadata": {},
   "outputs": [
    {
     "data": {
      "text/html": [
       "<div>\n",
       "<style scoped>\n",
       "    .dataframe tbody tr th:only-of-type {\n",
       "        vertical-align: middle;\n",
       "    }\n",
       "\n",
       "    .dataframe tbody tr th {\n",
       "        vertical-align: top;\n",
       "    }\n",
       "\n",
       "    .dataframe thead th {\n",
       "        text-align: right;\n",
       "    }\n",
       "</style>\n",
       "<table border=\"1\" class=\"dataframe\">\n",
       "  <thead>\n",
       "    <tr style=\"text-align: right;\">\n",
       "      <th></th>\n",
       "      <th>Age</th>\n",
       "      <th>Workclass</th>\n",
       "      <th>Fnlwgt</th>\n",
       "      <th>Education</th>\n",
       "      <th>Education-num</th>\n",
       "      <th>Marital-status</th>\n",
       "      <th>Occupation</th>\n",
       "      <th>Relationship</th>\n",
       "      <th>Race</th>\n",
       "      <th>Sex</th>\n",
       "      <th>Capital-gain</th>\n",
       "      <th>Capital-loss</th>\n",
       "      <th>Hours-per-week</th>\n",
       "      <th>Native-Country</th>\n",
       "      <th>Income-per-year</th>\n",
       "    </tr>\n",
       "  </thead>\n",
       "  <tbody>\n",
       "    <tr>\n",
       "      <th>count</th>\n",
       "      <td>600.000000</td>\n",
       "      <td>600.000000</td>\n",
       "      <td>6.000000e+02</td>\n",
       "      <td>600.000000</td>\n",
       "      <td>600.000000</td>\n",
       "      <td>600.000000</td>\n",
       "      <td>600.000000</td>\n",
       "      <td>600.000000</td>\n",
       "      <td>600.000000</td>\n",
       "      <td>600.000000</td>\n",
       "      <td>600.000000</td>\n",
       "      <td>600.000000</td>\n",
       "      <td>600.000000</td>\n",
       "      <td>600.000000</td>\n",
       "      <td>600.000000</td>\n",
       "    </tr>\n",
       "    <tr>\n",
       "      <th>mean</th>\n",
       "      <td>38.016667</td>\n",
       "      <td>3.781667</td>\n",
       "      <td>1.926703e+05</td>\n",
       "      <td>10.311667</td>\n",
       "      <td>10.073333</td>\n",
       "      <td>2.585000</td>\n",
       "      <td>6.768333</td>\n",
       "      <td>1.525000</td>\n",
       "      <td>3.625000</td>\n",
       "      <td>0.665000</td>\n",
       "      <td>562.980000</td>\n",
       "      <td>101.825000</td>\n",
       "      <td>39.801667</td>\n",
       "      <td>36.738333</td>\n",
       "      <td>0.223333</td>\n",
       "    </tr>\n",
       "    <tr>\n",
       "      <th>std</th>\n",
       "      <td>13.505816</td>\n",
       "      <td>1.498134</td>\n",
       "      <td>1.124690e+05</td>\n",
       "      <td>3.874646</td>\n",
       "      <td>2.586976</td>\n",
       "      <td>1.485413</td>\n",
       "      <td>4.306457</td>\n",
       "      <td>1.662523</td>\n",
       "      <td>0.886388</td>\n",
       "      <td>0.472384</td>\n",
       "      <td>2658.704404</td>\n",
       "      <td>427.045514</td>\n",
       "      <td>11.740474</td>\n",
       "      <td>7.788729</td>\n",
       "      <td>0.416827</td>\n",
       "    </tr>\n",
       "    <tr>\n",
       "      <th>min</th>\n",
       "      <td>17.000000</td>\n",
       "      <td>0.000000</td>\n",
       "      <td>2.117400e+04</td>\n",
       "      <td>0.000000</td>\n",
       "      <td>1.000000</td>\n",
       "      <td>0.000000</td>\n",
       "      <td>0.000000</td>\n",
       "      <td>0.000000</td>\n",
       "      <td>0.000000</td>\n",
       "      <td>0.000000</td>\n",
       "      <td>0.000000</td>\n",
       "      <td>0.000000</td>\n",
       "      <td>1.000000</td>\n",
       "      <td>0.000000</td>\n",
       "      <td>0.000000</td>\n",
       "    </tr>\n",
       "    <tr>\n",
       "      <th>25%</th>\n",
       "      <td>28.000000</td>\n",
       "      <td>4.000000</td>\n",
       "      <td>1.144500e+05</td>\n",
       "      <td>9.000000</td>\n",
       "      <td>9.000000</td>\n",
       "      <td>2.000000</td>\n",
       "      <td>3.000000</td>\n",
       "      <td>0.000000</td>\n",
       "      <td>4.000000</td>\n",
       "      <td>0.000000</td>\n",
       "      <td>0.000000</td>\n",
       "      <td>0.000000</td>\n",
       "      <td>40.000000</td>\n",
       "      <td>39.000000</td>\n",
       "      <td>0.000000</td>\n",
       "    </tr>\n",
       "    <tr>\n",
       "      <th>50%</th>\n",
       "      <td>36.000000</td>\n",
       "      <td>4.000000</td>\n",
       "      <td>1.839230e+05</td>\n",
       "      <td>11.000000</td>\n",
       "      <td>10.000000</td>\n",
       "      <td>2.000000</td>\n",
       "      <td>7.000000</td>\n",
       "      <td>1.000000</td>\n",
       "      <td>4.000000</td>\n",
       "      <td>1.000000</td>\n",
       "      <td>0.000000</td>\n",
       "      <td>0.000000</td>\n",
       "      <td>40.000000</td>\n",
       "      <td>39.000000</td>\n",
       "      <td>0.000000</td>\n",
       "    </tr>\n",
       "    <tr>\n",
       "      <th>75%</th>\n",
       "      <td>46.000000</td>\n",
       "      <td>4.000000</td>\n",
       "      <td>2.455462e+05</td>\n",
       "      <td>12.000000</td>\n",
       "      <td>12.000000</td>\n",
       "      <td>4.000000</td>\n",
       "      <td>10.000000</td>\n",
       "      <td>3.000000</td>\n",
       "      <td>4.000000</td>\n",
       "      <td>1.000000</td>\n",
       "      <td>0.000000</td>\n",
       "      <td>0.000000</td>\n",
       "      <td>42.250000</td>\n",
       "      <td>39.000000</td>\n",
       "      <td>0.000000</td>\n",
       "    </tr>\n",
       "    <tr>\n",
       "      <th>max</th>\n",
       "      <td>90.000000</td>\n",
       "      <td>7.000000</td>\n",
       "      <td>1.033222e+06</td>\n",
       "      <td>15.000000</td>\n",
       "      <td>16.000000</td>\n",
       "      <td>6.000000</td>\n",
       "      <td>14.000000</td>\n",
       "      <td>5.000000</td>\n",
       "      <td>4.000000</td>\n",
       "      <td>1.000000</td>\n",
       "      <td>34095.000000</td>\n",
       "      <td>2415.000000</td>\n",
       "      <td>98.000000</td>\n",
       "      <td>39.000000</td>\n",
       "      <td>1.000000</td>\n",
       "    </tr>\n",
       "  </tbody>\n",
       "</table>\n",
       "</div>"
      ],
      "text/plain": [
       "              Age   Workclass        Fnlwgt   Education  Education-num  \\\n",
       "count  600.000000  600.000000  6.000000e+02  600.000000     600.000000   \n",
       "mean    38.016667    3.781667  1.926703e+05   10.311667      10.073333   \n",
       "std     13.505816    1.498134  1.124690e+05    3.874646       2.586976   \n",
       "min     17.000000    0.000000  2.117400e+04    0.000000       1.000000   \n",
       "25%     28.000000    4.000000  1.144500e+05    9.000000       9.000000   \n",
       "50%     36.000000    4.000000  1.839230e+05   11.000000      10.000000   \n",
       "75%     46.000000    4.000000  2.455462e+05   12.000000      12.000000   \n",
       "max     90.000000    7.000000  1.033222e+06   15.000000      16.000000   \n",
       "\n",
       "       Marital-status  Occupation  Relationship        Race         Sex  \\\n",
       "count      600.000000  600.000000    600.000000  600.000000  600.000000   \n",
       "mean         2.585000    6.768333      1.525000    3.625000    0.665000   \n",
       "std          1.485413    4.306457      1.662523    0.886388    0.472384   \n",
       "min          0.000000    0.000000      0.000000    0.000000    0.000000   \n",
       "25%          2.000000    3.000000      0.000000    4.000000    0.000000   \n",
       "50%          2.000000    7.000000      1.000000    4.000000    1.000000   \n",
       "75%          4.000000   10.000000      3.000000    4.000000    1.000000   \n",
       "max          6.000000   14.000000      5.000000    4.000000    1.000000   \n",
       "\n",
       "       Capital-gain  Capital-loss  Hours-per-week  Native-Country  \\\n",
       "count    600.000000    600.000000      600.000000      600.000000   \n",
       "mean     562.980000    101.825000       39.801667       36.738333   \n",
       "std     2658.704404    427.045514       11.740474        7.788729   \n",
       "min        0.000000      0.000000        1.000000        0.000000   \n",
       "25%        0.000000      0.000000       40.000000       39.000000   \n",
       "50%        0.000000      0.000000       40.000000       39.000000   \n",
       "75%        0.000000      0.000000       42.250000       39.000000   \n",
       "max    34095.000000   2415.000000       98.000000       39.000000   \n",
       "\n",
       "       Income-per-year  \n",
       "count       600.000000  \n",
       "mean          0.223333  \n",
       "std           0.416827  \n",
       "min           0.000000  \n",
       "25%           0.000000  \n",
       "50%           0.000000  \n",
       "75%           0.000000  \n",
       "max           1.000000  "
      ]
     },
     "execution_count": 47,
     "metadata": {},
     "output_type": "execute_result"
    }
   ],
   "source": [
    "df1.describe()"
   ]
  },
  {
   "cell_type": "markdown",
   "metadata": {},
   "source": [
    "## Change type Object to Category"
   ]
  },
  {
   "cell_type": "code",
   "execution_count": 48,
   "metadata": {},
   "outputs": [
    {
     "data": {
      "text/plain": [
       "4    415\n",
       "6     45\n",
       "2     42\n",
       "0     41\n",
       "7     21\n",
       "5     18\n",
       "1     18\n",
       "Name: Workclass, dtype: int64"
      ]
     },
     "execution_count": 48,
     "metadata": {},
     "output_type": "execute_result"
    }
   ],
   "source": [
    "df1['Workclass'].value_counts()"
   ]
  },
  {
   "cell_type": "code",
   "execution_count": 49,
   "metadata": {},
   "outputs": [],
   "source": [
    "df1['Workclass'] = df1['Workclass'].astype('category').cat.codes"
   ]
  },
  {
   "cell_type": "code",
   "execution_count": 50,
   "metadata": {},
   "outputs": [
    {
     "data": {
      "text/plain": [
       "11    186\n",
       "15    141\n",
       "9      95\n",
       "12     33\n",
       "1      29\n",
       "7      27\n",
       "8      26\n",
       "0      11\n",
       "5      10\n",
       "6       9\n",
       "10      8\n",
       "14      7\n",
       "4       7\n",
       "3       6\n",
       "2       4\n",
       "13      1\n",
       "Name: Education, dtype: int64"
      ]
     },
     "execution_count": 50,
     "metadata": {},
     "output_type": "execute_result"
    }
   ],
   "source": [
    "df1['Education'].value_counts()"
   ]
  },
  {
   "cell_type": "code",
   "execution_count": 51,
   "metadata": {},
   "outputs": [],
   "source": [
    "df1['Education'] = df1['Education'].astype('category').cat.codes"
   ]
  },
  {
   "cell_type": "code",
   "execution_count": 52,
   "metadata": {},
   "outputs": [
    {
     "data": {
      "text/plain": [
       "2    272\n",
       "4    203\n",
       "0     84\n",
       "5     16\n",
       "6     14\n",
       "3     10\n",
       "1      1\n",
       "Name: Marital-status, dtype: int64"
      ]
     },
     "execution_count": 52,
     "metadata": {},
     "output_type": "execute_result"
    }
   ],
   "source": [
    "df1['Marital-status'].value_counts()"
   ]
  },
  {
   "cell_type": "code",
   "execution_count": 53,
   "metadata": {},
   "outputs": [],
   "source": [
    "df1['Marital-status'] = df1['Marital-status'].astype('category').cat.codes"
   ]
  },
  {
   "cell_type": "code",
   "execution_count": 54,
   "metadata": {},
   "outputs": [
    {
     "data": {
      "text/plain": [
       "3     78\n",
       "10    74\n",
       "12    68\n",
       "4     68\n",
       "8     65\n",
       "1     56\n",
       "0     41\n",
       "7     35\n",
       "14    32\n",
       "6     28\n",
       "13    26\n",
       "5     14\n",
       "11    13\n",
       "9      1\n",
       "2      1\n",
       "Name: Occupation, dtype: int64"
      ]
     },
     "execution_count": 54,
     "metadata": {},
     "output_type": "execute_result"
    }
   ],
   "source": [
    "df1['Occupation'].value_counts()"
   ]
  },
  {
   "cell_type": "code",
   "execution_count": 55,
   "metadata": {},
   "outputs": [],
   "source": [
    "df1['Occupation'] = df1['Occupation'].astype('category').cat.codes"
   ]
  },
  {
   "cell_type": "code",
   "execution_count": 56,
   "metadata": {},
   "outputs": [
    {
     "data": {
      "text/plain": [
       "0    226\n",
       "1    170\n",
       "3     83\n",
       "4     64\n",
       "5     42\n",
       "2     15\n",
       "Name: Relationship, dtype: int64"
      ]
     },
     "execution_count": 56,
     "metadata": {},
     "output_type": "execute_result"
    }
   ],
   "source": [
    "df1['Relationship'].value_counts()"
   ]
  },
  {
   "cell_type": "code",
   "execution_count": 57,
   "metadata": {},
   "outputs": [],
   "source": [
    "df1['Relationship'] = df1['Relationship'].astype('category').cat.codes"
   ]
  },
  {
   "cell_type": "code",
   "execution_count": 58,
   "metadata": {},
   "outputs": [
    {
     "data": {
      "text/plain": [
       "4    501\n",
       "2     69\n",
       "1     18\n",
       "0      7\n",
       "3      5\n",
       "Name: Race, dtype: int64"
      ]
     },
     "execution_count": 58,
     "metadata": {},
     "output_type": "execute_result"
    }
   ],
   "source": [
    "df1['Race'].value_counts()"
   ]
  },
  {
   "cell_type": "code",
   "execution_count": 59,
   "metadata": {},
   "outputs": [],
   "source": [
    "df1['Race'] = df1['Race'].astype('category').cat.codes"
   ]
  },
  {
   "cell_type": "code",
   "execution_count": 60,
   "metadata": {},
   "outputs": [
    {
     "data": {
      "text/plain": [
       "1    399\n",
       "0    201\n",
       "Name: Sex, dtype: int64"
      ]
     },
     "execution_count": 60,
     "metadata": {},
     "output_type": "execute_result"
    }
   ],
   "source": [
    "df1['Sex'].value_counts()"
   ]
  },
  {
   "cell_type": "code",
   "execution_count": 61,
   "metadata": {},
   "outputs": [],
   "source": [
    "df1['Sex'] = df1['Sex'].astype('category').cat.codes"
   ]
  },
  {
   "cell_type": "code",
   "execution_count": 62,
   "metadata": {},
   "outputs": [
    {
     "data": {
      "text/plain": [
       "39    538\n",
       "26     14\n",
       "0      11\n",
       "33      4\n",
       "2       3\n",
       "20      3\n",
       "9       2\n",
       "32      2\n",
       "31      2\n",
       "30      2\n",
       "5       2\n",
       "11      2\n",
       "35      1\n",
       "1       1\n",
       "4       1\n",
       "6       1\n",
       "7       1\n",
       "8       1\n",
       "14      1\n",
       "10      1\n",
       "16      1\n",
       "37      1\n",
       "22      1\n",
       "23      1\n",
       "25      1\n",
       "36      1\n",
       "19      1\n",
       "Name: Native-Country, dtype: int64"
      ]
     },
     "execution_count": 62,
     "metadata": {},
     "output_type": "execute_result"
    }
   ],
   "source": [
    "df1['Native-Country'].value_counts()"
   ]
  },
  {
   "cell_type": "code",
   "execution_count": 63,
   "metadata": {},
   "outputs": [],
   "source": [
    "df1['Native-Country'] = df1['Native-Country'].astype('category').cat.codes"
   ]
  },
  {
   "cell_type": "code",
   "execution_count": 64,
   "metadata": {},
   "outputs": [
    {
     "data": {
      "text/plain": [
       "0    466\n",
       "1    134\n",
       "Name: Income-per-year, dtype: int64"
      ]
     },
     "execution_count": 64,
     "metadata": {},
     "output_type": "execute_result"
    }
   ],
   "source": [
    "df1['Income-per-year'].value_counts()"
   ]
  },
  {
   "cell_type": "code",
   "execution_count": 65,
   "metadata": {},
   "outputs": [],
   "source": [
    "df1['Income-per-year'] = df1['Income-per-year'].astype('category').cat.codes"
   ]
  },
  {
   "cell_type": "code",
   "execution_count": 66,
   "metadata": {},
   "outputs": [
    {
     "name": "stdout",
     "output_type": "stream",
     "text": [
      "<class 'pandas.core.frame.DataFrame'>\n",
      "RangeIndex: 600 entries, 0 to 599\n",
      "Data columns (total 15 columns):\n",
      " #   Column           Non-Null Count  Dtype\n",
      "---  ------           --------------  -----\n",
      " 0   Age              600 non-null    int64\n",
      " 1   Workclass        600 non-null    int8 \n",
      " 2   Fnlwgt           600 non-null    int64\n",
      " 3   Education        600 non-null    int8 \n",
      " 4   Education-num    600 non-null    int64\n",
      " 5   Marital-status   600 non-null    int8 \n",
      " 6   Occupation       600 non-null    int8 \n",
      " 7   Relationship     600 non-null    int8 \n",
      " 8   Race             600 non-null    int8 \n",
      " 9   Sex              600 non-null    int8 \n",
      " 10  Capital-gain     600 non-null    int64\n",
      " 11  Capital-loss     600 non-null    int64\n",
      " 12  Hours-per-week   600 non-null    int64\n",
      " 13  Native-Country   600 non-null    int8 \n",
      " 14  Income-per-year  600 non-null    int8 \n",
      "dtypes: int64(6), int8(9)\n",
      "memory usage: 33.5 KB\n"
     ]
    }
   ],
   "source": [
    "df1.info()"
   ]
  },
  {
   "cell_type": "code",
   "execution_count": 67,
   "metadata": {},
   "outputs": [
    {
     "data": {
      "text/plain": [
       "600"
      ]
     },
     "execution_count": 67,
     "metadata": {},
     "output_type": "execute_result"
    }
   ],
   "source": [
    "len(df1)"
   ]
  },
  {
   "cell_type": "code",
   "execution_count": 68,
   "metadata": {},
   "outputs": [],
   "source": [
    "def train_test_split(df, test_size=0.2):\n",
    "    df = df.sample(frac=1).reset_index(drop=True)\n",
    "    df = pd.DataFrame(df)\n",
    "    size = len(df)\n",
    "    df_Test = df.iloc[:int(size*test_size),:]\n",
    "    df_Train = df.iloc[int(size*test_size):,:]\n",
    "    return df_Train, df_Test"
   ]
  },
  {
   "cell_type": "code",
   "execution_count": 69,
   "metadata": {},
   "outputs": [],
   "source": [
    "df_train, df_test = train_test_split(df1, 0.2)"
   ]
  },
  {
   "cell_type": "code",
   "execution_count": 70,
   "metadata": {},
   "outputs": [
    {
     "data": {
      "text/plain": [
       "480"
      ]
     },
     "execution_count": 70,
     "metadata": {},
     "output_type": "execute_result"
    }
   ],
   "source": [
    "len(df_train)"
   ]
  },
  {
   "cell_type": "code",
   "execution_count": 71,
   "metadata": {},
   "outputs": [
    {
     "data": {
      "text/plain": [
       "120"
      ]
     },
     "execution_count": 71,
     "metadata": {},
     "output_type": "execute_result"
    }
   ],
   "source": [
    "len(df_test)"
   ]
  },
  {
   "attachments": {
    "image.png": {
     "image/png": "[encoded data removed]"
    }
   },
   "cell_type": "markdown",
   "metadata": {},
   "source": [
    "## Entropy Criteria\n",
    "![image.png](attachment:image.png)"
   ]
  },
  {
   "cell_type": "code",
   "execution_count": 72,
   "metadata": {},
   "outputs": [],
   "source": [
    "# Calculate the Entropy index for a split dataset\n",
    "def entropy_index(groups, value_types):\n",
    "    # count all samples at split point\n",
    "    n_instances = float(sum([len(group) for group in groups]))\n",
    "    # sum weighted Entropy for each group\n",
    "    entropy = 0.0\n",
    "    for group in groups:\n",
    "        size = float(len(group))\n",
    "        # if values in group do not exist -> next iteration\n",
    "        if size == 0:\n",
    "            continue\n",
    "        score = 0.0\n",
    "        # score the group based on the score for each class\n",
    "        for val in value_types:\n",
    "            p = [row[-1] for row in group].count(val) / size\n",
    "            if p == 0:\n",
    "                score -= 0\n",
    "            else:\n",
    "                score -= p * math.log2(p)\n",
    "        # Getting weighted Entropy Index depending on size of group\n",
    "        entropy += score * (size / n_instances)\n",
    "    return entropy"
   ]
  },
  {
   "cell_type": "markdown",
   "metadata": {},
   "source": [
    "## Splits for a decision tree based on Entropy Criteria"
   ]
  },
  {
   "cell_type": "code",
   "execution_count": 73,
   "metadata": {},
   "outputs": [],
   "source": [
    "# Split a dataset based on an attribute value\n",
    "def make_split(index, value, dataset):\n",
    "    left, right = list(), list()\n",
    "    for row in dataset:\n",
    "        if row[index] < value:\n",
    "            left.append(row)\n",
    "        else:\n",
    "            right.append(row)\n",
    "    return left, right"
   ]
  },
  {
   "cell_type": "code",
   "execution_count": 100,
   "metadata": {},
   "outputs": [],
   "source": [
    "# Select the best split point for a dataset\n",
    "def get_split(dataset):\n",
    "    value_types = list(set(row[-1] for row in dataset))\n",
    "    # best_index - best column for splitting\n",
    "    # best_value - best value of column, which should be used for splitting a dataset into left and right ones\n",
    "    # best_score - best entropy parameter\n",
    "    # best_groups - left and right parts of tree\n",
    "    best_index, best_value, best_score, best_groups = 999999, 999999, 999999, None\n",
    "    for index in range(len(dataset[0])-1): #for all columns except value-attribute\n",
    "        for row in dataset:\n",
    "            # make groups and calculate weighted entropy for them\n",
    "            groups = make_split(index, row[index], dataset)\n",
    "            entropy = entropy_index(groups, value_types)\n",
    "            # if entropy is better update best parameters\n",
    "            if entropy < best_score:\n",
    "                best_index, best_value, best_score, best_groups = index, row[index], entropy, groups\n",
    "    return {'index':best_index, 'value':best_value, 'groups':best_groups}"
   ]
  },
  {
   "cell_type": "code",
   "execution_count": 75,
   "metadata": {},
   "outputs": [],
   "source": []
  },
  {
   "cell_type": "code",
   "execution_count": 87,
   "metadata": {
    "collapsed": true,
    "jupyter": {
     "outputs_hidden": true
    }
   },
   "outputs": [
    {
     "name": "stdout",
     "output_type": "stream",
     "text": [
      "0.6381008122880476\n"
     ]
    },
    {
     "data": {
      "text/plain": [
       "{'index': 5,\n",
       " 'value': 3,\n",
       " 'groups': ([[58, 3, 236596, 11, 9, 2, 1, 0, 4, 1, 0, 0, 45, 26, 1],\n",
       "   [39, 2, 207853, 2, 8, 2, 13, 0, 4, 1, 0, 0, 50, 26, 0],\n",
       "   [25, 3, 86872, 9, 13, 2, 4, 0, 4, 1, 0, 0, 55, 26, 1],\n",
       "   [41, 3, 445382, 12, 14, 2, 4, 0, 4, 1, 0, 1977, 65, 26, 1],\n",
       "   [42, 3, 124692, 11, 9, 2, 6, 0, 4, 1, 0, 0, 40, 26, 0],\n",
       "   [47, 3, 287828, 9, 13, 2, 4, 5, 4, 0, 0, 0, 40, 26, 1],\n",
       "   [58, 6, 109567, 10, 16, 2, 10, 0, 4, 1, 0, 0, 1, 26, 1],\n",
       "   [49, 4, 191681, 15, 10, 2, 4, 0, 4, 1, 0, 0, 50, 26, 1],\n",
       "   [27, 3, 181659, 11, 9, 2, 7, 0, 4, 1, 0, 0, 40, 26, 0],\n",
       "   [25, 3, 32275, 15, 10, 2, 4, 5, 3, 0, 0, 0, 40, 26, 0],\n",
       "   [50, 3, 193884, 5, 4, 2, 3, 0, 4, 1, 0, 0, 40, 6, 0],\n",
       "   [32, 3, 132601, 9, 13, 2, 10, 0, 4, 1, 0, 0, 50, 26, 0],\n",
       "   [45, 2, 164427, 9, 13, 0, 10, 4, 4, 0, 0, 0, 40, 26, 0],\n",
       "   [41, 1, 130760, 9, 13, 2, 13, 0, 4, 1, 0, 0, 24, 26, 0],\n",
       "   [41, 3, 343121, 11, 9, 0, 1, 4, 4, 0, 0, 0, 36, 26, 0],\n",
       "   [41, 3, 130408, 11, 9, 0, 12, 4, 2, 0, 0, 0, 38, 26, 0],\n",
       "   [38, 1, 125933, 12, 14, 2, 10, 0, 4, 1, 0, 0, 40, 14, 1],\n",
       "   [46, 5, 317253, 11, 9, 2, 3, 0, 4, 1, 0, 0, 25, 26, 0],\n",
       "   [59, 2, 286967, 11, 9, 2, 14, 0, 4, 1, 0, 0, 45, 26, 0],\n",
       "   [77, 5, 138714, 15, 10, 2, 12, 0, 4, 1, 0, 0, 40, 26, 0],\n",
       "   [74, 3, 99183, 15, 10, 0, 1, 1, 4, 0, 0, 0, 9, 26, 0],\n",
       "   [34, 3, 187251, 11, 9, 0, 10, 4, 4, 0, 0, 0, 25, 26, 0],\n",
       "   [33, 3, 202051, 12, 14, 2, 10, 0, 4, 1, 0, 0, 50, 26, 0],\n",
       "   [19, 3, 544091, 11, 9, 1, 1, 5, 4, 0, 0, 0, 25, 26, 0],\n",
       "   [63, 4, 222289, 11, 9, 2, 4, 0, 4, 1, 0, 0, 40, 26, 1],\n",
       "   [43, 3, 117037, 1, 7, 2, 14, 0, 4, 1, 0, 2042, 40, 26, 0],\n",
       "   [28, 3, 189346, 11, 9, 0, 3, 1, 4, 1, 0, 0, 45, 26, 0],\n",
       "   [32, 3, 364657, 15, 10, 2, 4, 0, 4, 1, 0, 0, 50, 26, 0],\n",
       "   [42, 5, 303044, 11, 9, 2, 5, 0, 1, 1, 0, 0, 40, 1, 1],\n",
       "   [43, 3, 477983, 11, 9, 2, 6, 0, 2, 1, 0, 0, 40, 26, 0],\n",
       "   [36, 6, 119272, 11, 9, 2, 11, 0, 4, 1, 7298, 0, 40, 26, 1],\n",
       "   [76, 5, 174309, 12, 14, 2, 3, 0, 4, 1, 0, 0, 10, 26, 0],\n",
       "   [28, 0, 123147, 15, 10, 2, 0, 5, 4, 0, 0, 1887, 40, 26, 1],\n",
       "   [23, 3, 197387, 4, 3, 2, 14, 2, 4, 1, 0, 0, 40, 18, 0],\n",
       "   [40, 3, 207578, 7, 12, 2, 13, 0, 4, 1, 0, 1977, 60, 26, 1],\n",
       "   [38, 3, 28887, 1, 7, 2, 12, 0, 4, 1, 0, 0, 50, 26, 0],\n",
       "   [43, 3, 237993, 15, 10, 2, 13, 0, 4, 1, 0, 0, 40, 26, 1],\n",
       "   [34, 3, 304030, 11, 9, 2, 1, 0, 2, 1, 0, 0, 40, 26, 0],\n",
       "   [56, 2, 216851, 9, 13, 2, 13, 0, 4, 1, 0, 0, 40, 26, 1],\n",
       "   [22, 6, 311512, 15, 10, 2, 8, 0, 2, 1, 0, 0, 15, 26, 0],\n",
       "   [59, 6, 268700, 11, 9, 2, 8, 0, 4, 1, 0, 0, 40, 26, 0],\n",
       "   [45, 5, 201080, 12, 14, 2, 12, 0, 4, 1, 0, 0, 40, 26, 1],\n",
       "   [46, 3, 214955, 4, 3, 0, 3, 1, 4, 0, 0, 2339, 45, 26, 0],\n",
       "   [30, 3, 188146, 11, 9, 2, 7, 0, 4, 1, 5013, 0, 40, 26, 0],\n",
       "   [30, 3, 180374, 11, 9, 2, 4, 5, 4, 0, 0, 0, 40, 26, 0],\n",
       "   [31, 3, 127595, 11, 9, 0, 10, 1, 4, 0, 0, 0, 40, 26, 0],\n",
       "   [51, 3, 96062, 15, 10, 2, 12, 0, 4, 1, 0, 1977, 40, 26, 1],\n",
       "   [49, 2, 268234, 11, 9, 2, 11, 0, 4, 1, 0, 0, 40, 26, 1],\n",
       "   [34, 3, 108116, 9, 13, 2, 10, 0, 4, 1, 0, 0, 50, 26, 1],\n",
       "   [33, 3, 111746, 7, 12, 2, 3, 0, 4, 1, 0, 0, 45, 21, 0],\n",
       "   [55, 0, 105138, 11, 9, 2, 0, 5, 1, 0, 0, 0, 40, 26, 0],\n",
       "   [52, 5, 209642, 11, 9, 2, 4, 0, 4, 1, 0, 0, 45, 26, 1],\n",
       "   [38, 3, 155222, 15, 10, 0, 7, 1, 2, 0, 0, 0, 28, 26, 0],\n",
       "   [30, 6, 141297, 9, 13, 2, 10, 0, 1, 1, 0, 0, 40, 13, 1],\n",
       "   [26, 3, 192262, 11, 9, 2, 8, 0, 4, 1, 0, 0, 40, 26, 0],\n",
       "   [44, 3, 210525, 15, 10, 2, 14, 0, 4, 1, 0, 0, 40, 26, 0],\n",
       "   [30, 1, 59951, 15, 10, 2, 1, 3, 4, 1, 0, 0, 40, 26, 0],\n",
       "   [53, 3, 346253, 11, 9, 0, 12, 3, 4, 0, 0, 0, 35, 26, 0],\n",
       "   [46, 1, 371373, 11, 9, 0, 1, 1, 4, 1, 0, 0, 40, 26, 0],\n",
       "   [27, 3, 163127, 8, 11, 2, 1, 5, 4, 0, 0, 0, 35, 26, 0],\n",
       "   [51, 3, 259323, 9, 13, 2, 4, 0, 4, 1, 0, 0, 50, 26, 1],\n",
       "   [37, 4, 57424, 9, 13, 0, 12, 1, 4, 0, 0, 0, 60, 26, 0],\n",
       "   [46, 3, 146195, 7, 12, 0, 13, 1, 2, 0, 0, 0, 36, 26, 0],\n",
       "   [31, 3, 99928, 12, 14, 2, 10, 5, 4, 0, 0, 0, 50, 26, 0],\n",
       "   [34, 3, 175413, 7, 12, 0, 12, 4, 2, 0, 0, 0, 45, 26, 0],\n",
       "   [43, 5, 170721, 15, 10, 2, 3, 0, 4, 1, 0, 0, 20, 26, 0],\n",
       "   [52, 3, 35598, 11, 9, 0, 14, 4, 4, 1, 0, 0, 40, 26, 0],\n",
       "   [68, 0, 38317, 3, 2, 0, 0, 1, 4, 0, 0, 0, 20, 26, 0],\n",
       "   [36, 3, 128757, 9, 13, 2, 8, 0, 2, 1, 7298, 0, 36, 26, 1],\n",
       "   [42, 3, 221172, 9, 13, 2, 4, 0, 4, 1, 0, 0, 40, 26, 1],\n",
       "   [53, 3, 95647, 6, 5, 2, 6, 0, 4, 1, 0, 0, 50, 26, 0],\n",
       "   [51, 3, 95469, 11, 9, 2, 10, 0, 4, 1, 0, 0, 40, 26, 0],\n",
       "   [20, 3, 61777, 15, 10, 2, 12, 0, 4, 1, 0, 0, 30, 26, 0],\n",
       "   [53, 0, 135105, 9, 13, 0, 0, 1, 4, 0, 0, 0, 50, 26, 0],\n",
       "   [42, 2, 340148, 15, 10, 2, 1, 5, 4, 0, 0, 0, 40, 26, 0],\n",
       "   [43, 3, 180609, 9, 13, 2, 14, 0, 4, 1, 0, 0, 45, 26, 0],\n",
       "   [37, 6, 48211, 11, 9, 0, 1, 4, 4, 0, 0, 0, 35, 26, 0],\n",
       "   [58, 5, 321171, 11, 9, 2, 6, 0, 4, 1, 0, 0, 40, 26, 0],\n",
       "   [29, 3, 105598, 15, 10, 0, 13, 1, 4, 1, 0, 0, 58, 26, 0],\n",
       "   [46, 2, 329752, 1, 7, 2, 14, 0, 4, 1, 0, 0, 30, 26, 0],\n",
       "   [28, 3, 166481, 5, 4, 2, 6, 0, 3, 1, 0, 2179, 40, 22, 0],\n",
       "   [45, 4, 197332, 15, 10, 2, 3, 0, 4, 1, 0, 0, 55, 26, 1],\n",
       "   [36, 3, 348022, 0, 6, 2, 8, 5, 4, 0, 0, 0, 24, 26, 0],\n",
       "   [24, 3, 303296, 15, 10, 2, 1, 5, 1, 0, 0, 0, 40, 17, 0],\n",
       "   [30, 3, 70377, 11, 9, 0, 10, 3, 4, 0, 0, 0, 40, 26, 0],\n",
       "   [35, 2, 233327, 15, 10, 2, 11, 0, 4, 1, 0, 0, 40, 26, 0],\n",
       "   [35, 3, 186110, 11, 9, 0, 14, 1, 4, 1, 0, 0, 45, 26, 0],\n",
       "   [33, 1, 319560, 8, 11, 0, 3, 4, 2, 0, 0, 0, 40, 26, 1],\n",
       "   [54, 2, 288825, 11, 9, 2, 14, 0, 2, 1, 0, 0, 40, 26, 0],\n",
       "   [43, 4, 188436, 12, 14, 2, 4, 0, 4, 1, 5013, 0, 45, 26, 0],\n",
       "   [47, 3, 87490, 12, 14, 0, 4, 4, 4, 1, 0, 0, 42, 26, 0],\n",
       "   [41, 2, 42346, 15, 10, 0, 8, 1, 2, 0, 0, 0, 24, 26, 0],\n",
       "   [43, 3, 50356, 15, 10, 2, 3, 0, 4, 1, 0, 1485, 50, 26, 0],\n",
       "   [37, 2, 186035, 15, 10, 2, 13, 0, 4, 1, 0, 0, 45, 26, 1],\n",
       "   [48, 5, 265477, 7, 12, 2, 10, 0, 4, 1, 0, 0, 40, 26, 0],\n",
       "   [53, 3, 242606, 11, 9, 2, 14, 0, 4, 1, 0, 0, 40, 26, 0],\n",
       "   [41, 3, 220531, 14, 15, 2, 10, 0, 4, 1, 0, 0, 60, 26, 1],\n",
       "   [33, 3, 118500, 15, 10, 0, 4, 4, 4, 0, 0, 0, 40, 26, 0],\n",
       "   [57, 1, 425161, 12, 14, 2, 12, 0, 4, 1, 15024, 0, 40, 26, 1],\n",
       "   [35, 3, 54576, 11, 9, 2, 7, 0, 4, 1, 0, 0, 40, 26, 0],\n",
       "   [44, 3, 115562, 15, 10, 2, 13, 0, 4, 1, 0, 0, 40, 26, 0],\n",
       "   [24, 2, 248344, 15, 10, 0, 6, 1, 2, 1, 0, 0, 50, 26, 0],\n",
       "   [49, 3, 192776, 12, 14, 2, 4, 0, 4, 1, 0, 1977, 45, 26, 1],\n",
       "   [28, 3, 85812, 15, 10, 2, 12, 5, 4, 0, 0, 0, 40, 26, 0],\n",
       "   [37, 4, 257295, 15, 10, 2, 4, 0, 1, 1, 0, 0, 75, 25, 1],\n",
       "   [36, 5, 28738, 7, 12, 0, 12, 4, 4, 0, 0, 0, 35, 26, 0],\n",
       "   [38, 3, 296478, 8, 11, 2, 3, 0, 4, 1, 7298, 0, 40, 26, 1],\n",
       "   [44, 2, 181344, 15, 10, 2, 4, 0, 2, 1, 0, 0, 38, 26, 1],\n",
       "   [48, 3, 149640, 11, 9, 2, 14, 0, 4, 1, 0, 0, 40, 26, 0],\n",
       "   [44, 3, 116632, 15, 10, 2, 10, 0, 4, 1, 0, 0, 40, 26, 1],\n",
       "   [36, 3, 207157, 15, 10, 0, 8, 4, 4, 0, 0, 0, 40, 18, 0],\n",
       "   [63, 0, 401531, 3, 2, 2, 0, 0, 4, 1, 0, 0, 35, 26, 0],\n",
       "   [34, 6, 240283, 11, 9, 0, 14, 4, 4, 0, 0, 0, 40, 26, 0],\n",
       "   [39, 3, 367260, 11, 9, 0, 4, 1, 4, 1, 0, 0, 80, 26, 0],\n",
       "   [41, 4, 34987, 15, 10, 2, 5, 0, 4, 1, 0, 0, 54, 26, 1],\n",
       "   [36, 3, 150042, 9, 13, 0, 10, 3, 4, 0, 0, 0, 40, 26, 0],\n",
       "   [37, 3, 126708, 11, 9, 2, 1, 5, 4, 0, 0, 0, 60, 26, 0],\n",
       "   [66, 5, 167687, 11, 9, 2, 5, 0, 4, 1, 1409, 0, 50, 26, 0],\n",
       "   [51, 3, 56915, 11, 9, 2, 3, 0, 0, 1, 0, 0, 40, 26, 0],\n",
       "   [41, 3, 112763, 14, 15, 2, 10, 5, 4, 0, 0, 0, 40, 26, 1],\n",
       "   [31, 6, 1033222, 15, 10, 2, 7, 0, 4, 1, 0, 0, 40, 26, 0],\n",
       "   [49, 2, 197371, 8, 11, 2, 3, 0, 2, 1, 0, 0, 40, 26, 1],\n",
       "   [40, 3, 286370, 5, 4, 2, 7, 0, 4, 1, 0, 0, 40, 18, 1],\n",
       "   [31, 3, 197860, 15, 10, 2, 6, 0, 4, 1, 0, 0, 40, 26, 0],\n",
       "   [35, 3, 138992, 12, 14, 2, 10, 2, 4, 1, 7298, 0, 40, 26, 1],\n",
       "   [59, 3, 159937, 11, 9, 2, 12, 0, 4, 1, 0, 0, 48, 26, 0],\n",
       "   [50, 1, 251585, 9, 13, 0, 4, 1, 4, 1, 0, 0, 55, 26, 1],\n",
       "   [31, 3, 114937, 7, 12, 2, 1, 0, 4, 1, 0, 0, 40, 26, 1],\n",
       "   [58, 3, 180980, 15, 10, 0, 8, 4, 4, 0, 0, 0, 42, 9, 0],\n",
       "   [56, 4, 303090, 15, 10, 2, 12, 0, 4, 1, 0, 0, 50, 26, 0],\n",
       "   [36, 2, 117312, 15, 10, 2, 14, 5, 4, 0, 0, 0, 40, 26, 0],\n",
       "   [34, 6, 98101, 9, 13, 2, 4, 0, 4, 1, 7688, 0, 45, 0, 1],\n",
       "   [41, 3, 101739, 7, 12, 2, 4, 5, 4, 0, 0, 0, 50, 26, 1],\n",
       "   [39, 3, 91996, 11, 9, 0, 8, 4, 4, 0, 0, 0, 40, 26, 0],\n",
       "   [60, 3, 85815, 11, 9, 2, 3, 0, 1, 1, 0, 0, 40, 26, 0],\n",
       "   [42, 3, 197583, 7, 12, 2, 4, 0, 2, 1, 0, 0, 40, 0, 1],\n",
       "   [28, 3, 92262, 11, 9, 2, 3, 0, 4, 1, 0, 0, 40, 26, 0],\n",
       "   [39, 0, 157443, 12, 14, 2, 0, 5, 1, 0, 3464, 0, 40, 0, 0],\n",
       "   [33, 3, 110978, 15, 10, 0, 3, 2, 3, 0, 0, 0, 40, 26, 0],\n",
       "   [36, 3, 197202, 11, 9, 2, 8, 0, 2, 1, 0, 0, 40, 26, 0],\n",
       "   [61, 4, 66614, 11, 9, 2, 3, 0, 4, 1, 0, 0, 40, 26, 0],\n",
       "   [44, 3, 109339, 1, 7, 0, 7, 4, 3, 0, 0, 0, 46, 22, 0],\n",
       "   [28, 3, 212563, 15, 10, 0, 7, 4, 2, 0, 0, 0, 25, 26, 0],\n",
       "   [59, 3, 109015, 11, 9, 0, 13, 4, 4, 0, 0, 0, 40, 26, 0],\n",
       "   [39, 3, 365739, 15, 10, 0, 3, 1, 4, 1, 0, 0, 40, 26, 0],\n",
       "   [44, 2, 160943, 11, 9, 2, 14, 0, 2, 1, 0, 0, 40, 26, 0],\n",
       "   [41, 2, 523910, 9, 13, 2, 3, 0, 2, 1, 0, 0, 40, 26, 0],\n",
       "   [45, 3, 153141, 11, 9, 2, 1, 0, 4, 1, 0, 0, 40, 0, 0],\n",
       "   [40, 6, 184018, 8, 11, 2, 7, 0, 4, 1, 0, 0, 38, 26, 1],\n",
       "   [24, 3, 172987, 9, 13, 2, 13, 0, 4, 1, 0, 0, 50, 26, 0],\n",
       "   [53, 3, 169846, 11, 9, 2, 1, 5, 4, 0, 0, 0, 40, 26, 1],\n",
       "   [64, 3, 21174, 11, 9, 2, 4, 0, 4, 1, 0, 0, 40, 26, 1],\n",
       "   [35, 3, 229328, 11, 9, 2, 7, 5, 2, 0, 0, 0, 40, 26, 0],\n",
       "   [40, 3, 347890, 9, 13, 2, 10, 0, 4, 1, 0, 0, 40, 26, 1],\n",
       "   [29, 3, 188401, 11, 9, 0, 5, 1, 4, 1, 0, 0, 40, 26, 0],\n",
       "   [45, 3, 109434, 9, 13, 2, 10, 0, 4, 1, 0, 0, 55, 26, 0],\n",
       "   [54, 3, 176681, 11, 9, 2, 1, 0, 2, 1, 0, 0, 20, 26, 0],\n",
       "   [60, 0, 24215, 0, 6, 0, 0, 1, 0, 0, 0, 0, 10, 26, 0],\n",
       "   [63, 5, 78383, 11, 9, 2, 5, 0, 4, 1, 0, 0, 45, 26, 0],\n",
       "   [30, 3, 59496, 9, 13, 2, 12, 0, 4, 1, 2407, 0, 40, 26, 0],\n",
       "   [40, 3, 96129, 8, 11, 2, 13, 0, 4, 1, 0, 0, 40, 26, 1],\n",
       "   [46, 3, 51618, 11, 9, 2, 8, 5, 4, 0, 0, 0, 40, 26, 0],\n",
       "   [59, 0, 372020, 9, 13, 2, 0, 0, 4, 1, 0, 0, 40, 26, 1],\n",
       "   [34, 3, 148291, 11, 9, 2, 13, 5, 4, 0, 0, 0, 32, 26, 0],\n",
       "   [56, 5, 183081, 15, 10, 2, 12, 0, 4, 1, 0, 0, 45, 26, 0],\n",
       "   [41, 3, 147372, 11, 9, 2, 1, 0, 4, 1, 0, 0, 48, 26, 0],\n",
       "   [50, 5, 30653, 12, 14, 2, 5, 0, 4, 1, 2407, 0, 98, 26, 0],\n",
       "   [72, 0, 303588, 11, 9, 2, 0, 0, 4, 1, 0, 0, 20, 26, 0],\n",
       "   [58, 3, 51662, 0, 6, 2, 8, 5, 4, 0, 0, 0, 8, 26, 0],\n",
       "   [33, 3, 117963, 9, 13, 2, 4, 0, 4, 1, 0, 0, 40, 26, 1],\n",
       "   [46, 5, 245724, 15, 10, 0, 4, 1, 4, 1, 0, 0, 50, 26, 0],\n",
       "   [25, 3, 133373, 11, 9, 2, 14, 0, 4, 1, 0, 0, 60, 26, 0],\n",
       "   [47, 3, 51835, 14, 15, 2, 10, 5, 4, 0, 0, 1902, 60, 12, 1],\n",
       "   [44, 4, 78374, 12, 14, 0, 4, 4, 1, 0, 0, 0, 40, 26, 0],\n",
       "   [38, 3, 91039, 9, 13, 2, 12, 0, 4, 1, 15024, 0, 60, 26, 1],\n",
       "   [53, 5, 88506, 9, 13, 2, 10, 0, 4, 1, 0, 0, 40, 26, 0],\n",
       "   [35, 3, 36270, 11, 9, 0, 3, 1, 4, 1, 0, 0, 60, 26, 0],\n",
       "   [41, 5, 196001, 11, 9, 2, 8, 5, 4, 0, 0, 0, 20, 26, 0],\n",
       "   [34, 3, 337587, 15, 10, 2, 10, 0, 4, 1, 0, 0, 50, 26, 1],\n",
       "   [57, 3, 212448, 9, 13, 0, 4, 1, 4, 0, 0, 0, 45, 26, 1],\n",
       "   [44, 3, 170924, 15, 10, 2, 3, 0, 4, 1, 7298, 0, 40, 26, 1],\n",
       "   [28, 3, 183175, 15, 10, 0, 1, 1, 4, 0, 0, 0, 40, 26, 0],\n",
       "   [42, 0, 137390, 11, 9, 2, 0, 0, 4, 1, 0, 0, 40, 26, 0],\n",
       "   [31, 2, 125927, 5, 4, 2, 5, 0, 4, 1, 0, 0, 40, 26, 0],\n",
       "   [28, 3, 377869, 15, 10, 2, 12, 5, 4, 0, 4064, 0, 25, 26, 0],\n",
       "   [23, 3, 54012, 11, 9, 2, 14, 0, 4, 1, 0, 0, 60, 26, 0],\n",
       "   [30, 3, 117747, 11, 9, 2, 12, 5, 1, 0, 0, 1573, 35, 0, 0],\n",
       "   [45, 3, 45857, 11, 9, 0, 1, 1, 4, 0, 0, 0, 28, 26, 0],\n",
       "   [52, 3, 25826, 0, 6, 2, 3, 0, 4, 1, 0, 1887, 47, 26, 1],\n",
       "   [50, 3, 204518, 5, 4, 0, 3, 1, 4, 1, 0, 0, 40, 26, 0],\n",
       "   [38, 3, 172927, 11, 9, 2, 12, 0, 4, 1, 0, 0, 50, 26, 0],\n",
       "   [62, 2, 114060, 11, 9, 2, 14, 0, 4, 1, 0, 0, 40, 26, 0],\n",
       "   [54, 3, 174319, 11, 9, 0, 14, 1, 4, 1, 0, 0, 40, 26, 0],\n",
       "   [57, 1, 337895, 9, 13, 2, 10, 0, 2, 1, 0, 0, 40, 26, 1],\n",
       "   [52, 3, 190762, 3, 2, 2, 7, 0, 4, 1, 0, 0, 40, 18, 0],\n",
       "   [38, 5, 190387, 11, 9, 2, 3, 0, 4, 1, 0, 0, 50, 26, 0],\n",
       "   [50, 3, 196232, 11, 9, 2, 4, 0, 4, 1, 7688, 0, 50, 26, 1],\n",
       "   [53, 3, 234721, 1, 7, 2, 6, 0, 2, 1, 0, 0, 40, 26, 0],\n",
       "   [20, 3, 146538, 11, 9, 2, 7, 0, 4, 1, 0, 0, 40, 26, 0],\n",
       "   [62, 3, 270092, 12, 14, 2, 10, 0, 4, 1, 0, 0, 40, 26, 1],\n",
       "   [34, 2, 226296, 9, 13, 2, 11, 0, 4, 1, 0, 0, 40, 26, 1],\n",
       "   [44, 5, 234885, 11, 9, 2, 12, 5, 4, 0, 0, 0, 40, 26, 1],\n",
       "   [46, 3, 108699, 15, 10, 0, 12, 1, 4, 0, 0, 0, 40, 26, 0],\n",
       "   [53, 3, 144361, 11, 9, 2, 7, 0, 4, 1, 0, 0, 38, 26, 0],\n",
       "   [46, 5, 80914, 12, 14, 0, 4, 1, 4, 1, 0, 0, 30, 26, 0],\n",
       "   [26, 3, 378322, 1, 7, 2, 3, 0, 4, 1, 0, 0, 40, 26, 0],\n",
       "   [33, 3, 111363, 9, 13, 2, 4, 0, 4, 1, 0, 0, 40, 26, 1],\n",
       "   [38, 1, 95432, 11, 9, 2, 1, 0, 4, 1, 0, 0, 40, 26, 1],\n",
       "   [37, 3, 286730, 15, 10, 0, 3, 4, 4, 0, 0, 0, 40, 26, 0],\n",
       "   [38, 5, 120985, 11, 9, 2, 3, 0, 4, 1, 4386, 0, 35, 26, 0],\n",
       "   [56, 5, 335605, 11, 9, 2, 8, 0, 4, 1, 0, 1887, 50, 2, 1],\n",
       "   [27, 3, 201872, 15, 10, 2, 12, 0, 4, 1, 0, 0, 50, 26, 0],\n",
       "   [44, 3, 128354, 12, 14, 0, 4, 4, 4, 0, 0, 0, 40, 26, 0],\n",
       "   [38, 3, 215646, 11, 9, 0, 6, 1, 4, 1, 0, 0, 40, 26, 0],\n",
       "   [38, 3, 351299, 15, 10, 2, 14, 0, 2, 1, 0, 0, 50, 26, 0],\n",
       "   [50, 3, 313321, 7, 12, 0, 12, 1, 4, 0, 0, 0, 40, 26, 0],\n",
       "   [29, 5, 162298, 9, 13, 2, 12, 0, 4, 1, 0, 0, 70, 26, 1],\n",
       "   [48, 3, 187715, 11, 9, 2, 3, 0, 4, 1, 0, 0, 46, 26, 0],\n",
       "   [45, 3, 386940, 9, 13, 0, 4, 3, 4, 1, 0, 1408, 40, 26, 0],\n",
       "   [34, 3, 227689, 8, 11, 0, 13, 1, 4, 0, 0, 0, 64, 26, 0],\n",
       "   [31, 3, 507875, 6, 5, 2, 7, 0, 4, 1, 0, 0, 43, 26, 0],\n",
       "   [40, 3, 32214, 7, 12, 2, 1, 0, 4, 1, 0, 0, 40, 26, 0],\n",
       "   [38, 3, 65324, 14, 15, 2, 10, 0, 4, 1, 0, 0, 40, 26, 1],\n",
       "   [64, 0, 187656, 3, 2, 0, 0, 1, 4, 1, 0, 0, 40, 26, 0],\n",
       "   [34, 3, 245487, 5, 4, 2, 14, 0, 0, 1, 0, 0, 45, 18, 0],\n",
       "   [29, 3, 191535, 11, 9, 0, 3, 1, 4, 1, 0, 0, 60, 26, 0],\n",
       "   [35, 3, 56352, 8, 11, 2, 8, 0, 4, 1, 0, 0, 40, 22, 0],\n",
       "   [43, 0, 174662, 15, 10, 0, 0, 1, 4, 0, 0, 0, 40, 26, 0],\n",
       "   [50, 6, 288353, 9, 13, 2, 11, 0, 4, 1, 0, 0, 40, 26, 1],\n",
       "   [45, 3, 98092, 11, 9, 2, 12, 0, 4, 1, 0, 0, 60, 26, 0],\n",
       "   [28, 6, 175325, 11, 9, 2, 11, 0, 4, 1, 0, 0, 40, 26, 0],\n",
       "   [37, 3, 284582, 12, 14, 2, 4, 5, 4, 0, 0, 0, 40, 26, 0],\n",
       "   [36, 3, 99374, 15, 10, 0, 3, 1, 4, 1, 0, 0, 40, 26, 0],\n",
       "   [52, 0, 252903, 11, 9, 0, 0, 1, 4, 1, 0, 0, 45, 26, 1],\n",
       "   [23, 3, 81281, 15, 10, 2, 1, 0, 4, 1, 0, 0, 40, 26, 0],\n",
       "   [30, 3, 29662, 7, 12, 2, 8, 5, 4, 0, 0, 0, 25, 26, 1],\n",
       "   [24, 3, 279472, 15, 10, 2, 7, 5, 4, 0, 7298, 0, 48, 26, 1],\n",
       "   [32, 4, 317660, 11, 9, 2, 3, 0, 4, 1, 7688, 0, 40, 26, 1],\n",
       "   [57, 3, 69884, 11, 9, 2, 12, 0, 4, 1, 0, 0, 40, 26, 1],\n",
       "   [52, 3, 48925, 15, 10, 2, 1, 0, 4, 1, 0, 0, 40, 26, 0],\n",
       "   [29, 6, 267989, 9, 13, 2, 10, 0, 4, 1, 0, 0, 50, 26, 1],\n",
       "   [37, 3, 202683, 15, 10, 2, 12, 0, 4, 1, 0, 0, 48, 26, 1],\n",
       "   [45, 3, 256649, 11, 9, 2, 7, 0, 2, 1, 0, 0, 40, 26, 0],\n",
       "   [38, 3, 182609, 9, 13, 2, 12, 0, 4, 1, 0, 0, 50, 20, 0],\n",
       "   [26, 5, 117125, 6, 5, 2, 3, 0, 4, 1, 0, 0, 40, 21, 0],\n",
       "   [28, 3, 338409, 9, 13, 2, 10, 5, 2, 0, 0, 0, 40, 4, 0],\n",
       "   [30, 3, 152453, 1, 7, 2, 8, 0, 4, 1, 0, 0, 40, 18, 0],\n",
       "   [37, 3, 22463, 8, 11, 2, 3, 0, 4, 1, 0, 1977, 40, 26, 1],\n",
       "   [43, 3, 114580, 15, 10, 0, 1, 1, 4, 0, 0, 0, 40, 26, 0],\n",
       "   [52, 4, 132178, 9, 13, 2, 4, 0, 4, 1, 0, 0, 50, 26, 1],\n",
       "   [31, 3, 84154, 15, 10, 2, 12, 0, 4, 1, 0, 0, 38, 0, 1],\n",
       "   [44, 3, 177905, 15, 10, 0, 7, 4, 4, 1, 0, 0, 58, 26, 1],\n",
       "   [34, 3, 142897, 12, 14, 2, 4, 0, 1, 1, 7298, 0, 35, 24, 1],\n",
       "   [57, 3, 249977, 8, 11, 2, 10, 0, 4, 1, 0, 0, 40, 26, 0],\n",
       "   [37, 1, 29054, 15, 10, 2, 1, 0, 4, 1, 0, 0, 42, 26, 1],\n",
       "   [42, 3, 116632, 10, 16, 2, 10, 0, 4, 1, 0, 0, 45, 26, 1],\n",
       "   [59, 3, 146013, 15, 10, 2, 12, 0, 4, 1, 4064, 0, 40, 26, 0],\n",
       "   [55, 2, 98545, 0, 6, 2, 1, 0, 4, 1, 0, 0, 40, 26, 0],\n",
       "   [43, 3, 187728, 15, 10, 2, 10, 5, 4, 0, 0, 1887, 50, 26, 1],\n",
       "   [40, 3, 118853, 9, 13, 2, 4, 0, 4, 1, 0, 0, 60, 26, 0],\n",
       "   [33, 3, 222205, 11, 9, 2, 3, 5, 4, 0, 0, 0, 40, 26, 1],\n",
       "   [24, 3, 159567, 15, 10, 2, 7, 0, 4, 1, 0, 0, 40, 26, 0],\n",
       "   [36, 3, 200352, 9, 13, 2, 10, 0, 4, 1, 0, 0, 45, 26, 0],\n",
       "   [28, 6, 149624, 9, 13, 2, 10, 0, 4, 1, 0, 0, 40, 26, 1],\n",
       "   [60, 3, 245062, 11, 9, 2, 3, 0, 4, 1, 0, 0, 40, 26, 1],\n",
       "   [54, 0, 180211, 15, 10, 2, 0, 0, 1, 1, 0, 0, 60, 23, 1],\n",
       "   [43, 5, 292175, 12, 14, 0, 4, 4, 4, 0, 0, 0, 45, 26, 1],\n",
       "   [35, 1, 76845, 6, 5, 2, 5, 0, 2, 1, 0, 0, 40, 26, 0],\n",
       "   [55, 3, 238638, 11, 9, 2, 12, 0, 4, 1, 4386, 0, 40, 26, 1],\n",
       "   [28, 3, 110145, 11, 9, 2, 1, 0, 4, 1, 0, 0, 40, 26, 0],\n",
       "   [38, 3, 33983, 15, 10, 2, 14, 0, 4, 1, 0, 0, 40, 26, 0],\n",
       "   [64, 3, 181232, 1, 7, 2, 3, 0, 4, 1, 0, 2179, 40, 26, 0],\n",
       "   [46, 3, 216666, 4, 3, 2, 7, 0, 4, 1, 0, 0, 40, 18, 0],\n",
       "   [59, 3, 199713, 11, 9, 2, 3, 0, 4, 1, 0, 0, 40, 26, 0],\n",
       "   [45, 3, 261192, 11, 9, 2, 8, 0, 2, 1, 0, 0, 40, 26, 0],\n",
       "   [52, 5, 334273, 9, 13, 2, 10, 0, 4, 1, 0, 0, 60, 26, 1],\n",
       "   [37, 3, 254202, 9, 13, 2, 12, 0, 4, 1, 0, 0, 50, 26, 0],\n",
       "   [67, 0, 36135, 1, 7, 2, 0, 0, 4, 1, 0, 0, 8, 26, 0],\n",
       "   [43, 3, 173321, 11, 9, 0, 1, 1, 4, 0, 0, 0, 40, 26, 0],\n",
       "   [42, 3, 390781, 9, 13, 2, 1, 5, 2, 0, 0, 0, 40, 26, 0],\n",
       "   [35, 3, 92440, 2, 8, 0, 3, 1, 4, 1, 0, 0, 50, 26, 1],\n",
       "   [49, 3, 193366, 11, 9, 2, 3, 0, 4, 1, 0, 0, 40, 26, 0],\n",
       "   [31, 3, 217460, 11, 9, 2, 14, 0, 4, 1, 0, 0, 45, 26, 1],\n",
       "   [35, 3, 220098, 11, 9, 2, 8, 5, 4, 0, 0, 0, 40, 26, 1],\n",
       "   [37, 3, 208358, 11, 9, 2, 3, 0, 4, 1, 0, 0, 40, 26, 1],\n",
       "   [47, 3, 264052, 15, 10, 2, 10, 0, 4, 1, 0, 0, 50, 26, 1],\n",
       "   [76, 3, 124191, 12, 14, 2, 4, 0, 4, 1, 0, 0, 40, 26, 1]],\n",
       "  [[24, 3, 432376, 9, 13, 4, 12, 2, 4, 1, 0, 0, 40, 26, 0],\n",
       "   [19, 2, 27382, 15, 10, 4, 1, 3, 4, 1, 0, 0, 40, 26, 0],\n",
       "   [45, 3, 196584, 8, 11, 4, 10, 1, 4, 0, 0, 1564, 40, 26, 1],\n",
       "   [32, 1, 249409, 11, 9, 4, 8, 3, 2, 1, 0, 0, 40, 26, 0],\n",
       "   [36, 3, 102864, 11, 9, 4, 7, 3, 4, 0, 0, 0, 40, 26, 0],\n",
       "   [47, 2, 543162, 11, 9, 5, 1, 4, 2, 0, 0, 0, 40, 26, 0],\n",
       "   [20, 2, 350845, 15, 10, 4, 1, 3, 4, 0, 0, 0, 10, 26, 0],\n",
       "   [39, 1, 235485, 7, 12, 4, 4, 1, 4, 1, 0, 0, 42, 26, 0],\n",
       "   [32, 3, 239824, 9, 13, 4, 13, 1, 4, 1, 0, 0, 40, 26, 0],\n",
       "   [44, 3, 290521, 11, 9, 6, 4, 4, 2, 0, 0, 0, 40, 26, 0],\n",
       "   [20, 3, 416103, 15, 10, 4, 6, 3, 4, 1, 0, 0, 40, 26, 0],\n",
       "   [90, 3, 51744, 11, 9, 4, 8, 1, 2, 1, 0, 2206, 40, 26, 0],\n",
       "   [32, 0, 293936, 5, 4, 3, 0, 1, 4, 1, 0, 0, 40, 0, 0],\n",
       "   [46, 6, 102628, 12, 14, 6, 11, 4, 4, 1, 0, 0, 40, 26, 0],\n",
       "   [24, 3, 241951, 11, 9, 4, 6, 4, 2, 0, 0, 0, 40, 26, 0],\n",
       "   [27, 3, 124953, 11, 9, 4, 8, 1, 4, 1, 0, 1980, 40, 26, 0],\n",
       "   [31, 2, 189265, 11, 9, 4, 1, 1, 4, 0, 0, 0, 40, 26, 0],\n",
       "   [23, 3, 211678, 15, 10, 4, 7, 1, 4, 1, 0, 0, 40, 26, 0],\n",
       "   [20, 0, 137300, 11, 9, 4, 0, 2, 4, 0, 0, 0, 35, 26, 0],\n",
       "   [28, 3, 76714, 14, 15, 4, 10, 1, 4, 1, 0, 0, 55, 26, 1],\n",
       "   [29, 3, 363425, 9, 13, 4, 10, 1, 4, 1, 0, 0, 40, 26, 0],\n",
       "   [47, 5, 149116, 12, 14, 4, 10, 1, 4, 0, 0, 0, 50, 26, 0],\n",
       "   [29, 5, 110663, 11, 9, 5, 3, 1, 4, 1, 0, 0, 35, 26, 0],\n",
       "   [32, 3, 84179, 11, 9, 4, 6, 1, 4, 0, 0, 0, 45, 26, 0],\n",
       "   [17, 3, 245918, 1, 7, 4, 8, 3, 4, 1, 0, 0, 12, 26, 0],\n",
       "   [32, 3, 37070, 8, 11, 4, 3, 1, 4, 1, 0, 0, 45, 26, 0],\n",
       "   [18, 3, 309634, 1, 7, 4, 8, 3, 4, 0, 0, 0, 22, 26, 0],\n",
       "   [19, 3, 206399, 11, 9, 4, 7, 3, 2, 0, 0, 0, 40, 26, 0],\n",
       "   [20, 3, 27337, 11, 9, 4, 6, 3, 0, 1, 0, 0, 48, 26, 0],\n",
       "   [29, 3, 423158, 15, 10, 4, 13, 1, 4, 0, 0, 0, 40, 26, 0],\n",
       "   [17, 3, 89821, 1, 7, 4, 8, 3, 4, 1, 0, 0, 10, 26, 0],\n",
       "   [32, 3, 183916, 11, 9, 4, 8, 1, 4, 0, 0, 0, 34, 26, 0],\n",
       "   [35, 3, 190174, 15, 10, 4, 4, 1, 4, 0, 0, 0, 40, 26, 0],\n",
       "   [62, 3, 159841, 11, 9, 6, 8, 1, 4, 0, 0, 0, 24, 26, 0],\n",
       "   [22, 3, 362589, 7, 12, 4, 12, 1, 4, 0, 0, 0, 15, 26, 0],\n",
       "   [35, 3, 153790, 15, 10, 4, 12, 1, 0, 0, 0, 0, 40, 26, 0],\n",
       "   [23, 0, 99399, 15, 10, 4, 0, 4, 0, 0, 0, 0, 25, 26, 0],\n",
       "   [17, 0, 258872, 1, 7, 4, 0, 3, 4, 0, 0, 0, 5, 26, 0],\n",
       "   [42, 2, 254817, 15, 10, 4, 10, 1, 4, 0, 0, 1340, 40, 26, 0],\n",
       "   [24, 3, 354351, 11, 9, 4, 3, 3, 4, 1, 0, 0, 40, 26, 0],\n",
       "   [21, 3, 205759, 11, 9, 4, 6, 3, 4, 1, 0, 0, 40, 26, 0],\n",
       "   [58, 3, 259014, 15, 10, 4, 14, 1, 4, 1, 0, 0, 20, 26, 0],\n",
       "   [43, 5, 241895, 9, 13, 4, 12, 1, 4, 1, 0, 0, 42, 26, 0],\n",
       "   [26, 3, 64293, 15, 10, 4, 10, 1, 4, 0, 0, 0, 35, 26, 0],\n",
       "   [57, 3, 190942, 3, 2, 6, 9, 1, 2, 0, 0, 0, 30, 26, 0],\n",
       "   [22, 0, 139883, 15, 10, 4, 0, 3, 4, 1, 0, 0, 40, 26, 0],\n",
       "   [18, 3, 226956, 11, 9, 4, 8, 3, 4, 0, 0, 0, 30, 0, 0],\n",
       "   [17, 3, 211870, 6, 5, 4, 8, 1, 4, 1, 0, 0, 6, 26, 0],\n",
       "   [23, 3, 35633, 15, 10, 4, 12, 1, 4, 1, 0, 0, 40, 26, 0],\n",
       "   [30, 3, 426017, 1, 7, 4, 8, 3, 4, 0, 0, 0, 19, 26, 0],\n",
       "   [23, 3, 214542, 9, 13, 4, 6, 1, 4, 1, 0, 0, 40, 26, 0],\n",
       "   [19, 0, 860348, 15, 10, 4, 0, 3, 2, 0, 0, 0, 25, 26, 0],\n",
       "   [22, 3, 410439, 11, 9, 3, 12, 1, 4, 1, 0, 0, 55, 26, 0],\n",
       "   [23, 3, 204653, 11, 9, 4, 6, 1, 4, 1, 0, 0, 72, 5, 0],\n",
       "   [22, 6, 293364, 15, 10, 4, 11, 3, 2, 0, 0, 0, 40, 26, 0],\n",
       "   [18, 3, 140164, 1, 7, 4, 12, 3, 4, 0, 0, 0, 40, 26, 0],\n",
       "   [19, 3, 104112, 11, 9, 4, 12, 4, 2, 1, 0, 0, 30, 11, 0],\n",
       "   [18, 3, 446839, 11, 9, 4, 12, 1, 4, 1, 0, 0, 30, 26, 0],\n",
       "   [23, 3, 396099, 11, 9, 4, 8, 1, 4, 0, 0, 0, 25, 26, 0],\n",
       "   [25, 3, 255004, 0, 6, 4, 3, 1, 4, 1, 0, 0, 40, 26, 0],\n",
       "   [23, 2, 324960, 11, 9, 4, 5, 1, 4, 1, 0, 0, 40, 20, 0],\n",
       "   [36, 5, 27053, 11, 9, 5, 8, 4, 4, 0, 0, 0, 40, 26, 0],\n",
       "   [23, 0, 211601, 8, 11, 4, 0, 3, 2, 0, 0, 0, 15, 26, 0],\n",
       "   [40, 6, 170525, 15, 10, 4, 1, 1, 4, 0, 0, 0, 38, 26, 0],\n",
       "   [32, 3, 205019, 7, 12, 4, 12, 1, 2, 1, 0, 0, 50, 26, 0],\n",
       "   [25, 3, 289980, 11, 9, 4, 6, 1, 4, 1, 0, 0, 35, 26, 0],\n",
       "   [24, 1, 191073, 11, 9, 4, 2, 3, 4, 1, 0, 0, 40, 26, 0],\n",
       "   [35, 3, 285020, 11, 9, 4, 3, 1, 4, 1, 0, 0, 40, 26, 0],\n",
       "   [19, 0, 218956, 15, 10, 4, 0, 3, 4, 1, 0, 0, 24, 2, 0],\n",
       "   [22, 3, 102632, 11, 9, 4, 3, 1, 4, 1, 0, 0, 41, 26, 0],\n",
       "   [49, 3, 141944, 8, 11, 3, 6, 4, 4, 1, 0, 1380, 42, 26, 0],\n",
       "   [30, 3, 194901, 1, 7, 4, 6, 3, 4, 1, 0, 0, 40, 26, 0],\n",
       "   [18, 3, 25828, 1, 7, 4, 6, 3, 4, 1, 0, 0, 16, 26, 0],\n",
       "   [25, 3, 252752, 11, 9, 4, 8, 4, 4, 0, 0, 0, 40, 26, 0],\n",
       "   [45, 3, 433665, 5, 4, 5, 8, 4, 4, 0, 0, 0, 40, 18, 0],\n",
       "   [29, 3, 103432, 11, 9, 4, 3, 1, 4, 1, 0, 0, 40, 26, 0],\n",
       "   [20, 3, 188300, 15, 10, 4, 13, 3, 4, 0, 0, 0, 40, 26, 0],\n",
       "   [27, 2, 209109, 12, 14, 4, 10, 3, 4, 1, 0, 0, 35, 26, 0],\n",
       "   [56, 3, 101128, 7, 12, 3, 8, 1, 4, 1, 0, 0, 25, 14, 0],\n",
       "   [29, 3, 102345, 8, 11, 5, 3, 1, 4, 1, 0, 0, 40, 26, 0],\n",
       "   [27, 3, 232782, 15, 10, 4, 12, 3, 4, 0, 0, 0, 40, 26, 0],\n",
       "   [25, 3, 193787, 15, 10, 4, 13, 3, 4, 0, 0, 0, 40, 26, 0],\n",
       "   [25, 3, 267044, 15, 10, 4, 1, 1, 0, 0, 0, 0, 20, 26, 0],\n",
       "   [46, 5, 277946, 7, 12, 5, 3, 1, 4, 1, 0, 0, 40, 26, 0],\n",
       "   [34, 3, 196164, 11, 9, 4, 8, 1, 4, 0, 0, 0, 35, 26, 0],\n",
       "   [28, 6, 70100, 9, 13, 4, 10, 1, 4, 1, 0, 0, 20, 26, 0],\n",
       "   [25, 3, 200408, 15, 10, 4, 13, 1, 4, 1, 2174, 0, 40, 26, 0],\n",
       "   [28, 3, 114053, 9, 13, 4, 14, 1, 4, 1, 0, 0, 55, 26, 0],\n",
       "   [58, 2, 283635, 9, 13, 4, 10, 1, 4, 0, 0, 0, 40, 26, 0],\n",
       "   [26, 3, 193945, 7, 12, 4, 13, 1, 4, 1, 0, 0, 45, 26, 0],\n",
       "   [33, 3, 178107, 9, 13, 4, 3, 3, 4, 1, 0, 0, 20, 26, 0],\n",
       "   [34, 2, 243867, 1, 7, 5, 7, 1, 2, 1, 0, 0, 40, 26, 0],\n",
       "   [26, 3, 397317, 12, 14, 4, 10, 1, 4, 0, 0, 1876, 40, 26, 0],\n",
       "   [66, 3, 127921, 11, 9, 4, 14, 1, 4, 1, 2050, 0, 55, 26, 0],\n",
       "   [29, 3, 271466, 8, 11, 4, 10, 1, 4, 1, 0, 0, 43, 26, 0],\n",
       "   [22, 3, 281432, 15, 10, 4, 6, 3, 4, 1, 0, 0, 30, 26, 0],\n",
       "   [25, 5, 176756, 11, 9, 4, 5, 3, 4, 1, 0, 0, 35, 26, 0],\n",
       "   [19, 3, 101509, 15, 10, 4, 10, 3, 4, 1, 0, 0, 32, 26, 0],\n",
       "   [30, 3, 54334, 6, 5, 4, 12, 1, 4, 1, 0, 0, 40, 26, 0],\n",
       "   [49, 3, 136455, 9, 13, 4, 10, 1, 4, 0, 0, 0, 45, 26, 0],\n",
       "   [27, 3, 163862, 11, 9, 4, 14, 1, 4, 1, 0, 0, 40, 26, 0],\n",
       "   [44, 3, 116632, 7, 12, 4, 5, 3, 4, 1, 0, 0, 40, 26, 0],\n",
       "   [49, 3, 94638, 11, 9, 5, 1, 4, 4, 0, 0, 0, 40, 26, 0],\n",
       "   [34, 2, 117018, 15, 10, 4, 11, 1, 4, 0, 0, 0, 40, 26, 0],\n",
       "   [37, 3, 635913, 9, 13, 4, 4, 1, 2, 1, 0, 0, 60, 26, 1],\n",
       "   [30, 3, 237903, 15, 10, 4, 6, 4, 4, 0, 0, 0, 40, 26, 0],\n",
       "   [17, 3, 65368, 1, 7, 4, 12, 3, 4, 0, 0, 0, 12, 26, 0],\n",
       "   [28, 3, 69621, 7, 12, 4, 12, 1, 4, 0, 0, 0, 60, 26, 0],\n",
       "   [43, 1, 410867, 10, 16, 4, 10, 1, 4, 0, 0, 0, 50, 26, 1],\n",
       "   [26, 3, 224563, 9, 13, 4, 1, 1, 4, 1, 0, 0, 40, 26, 0],\n",
       "   [20, 3, 266015, 15, 10, 4, 12, 3, 2, 1, 0, 0, 44, 26, 0],\n",
       "   [26, 3, 94936, 7, 12, 4, 12, 1, 4, 1, 0, 0, 40, 26, 0],\n",
       "   [30, 3, 303990, 11, 9, 4, 14, 1, 4, 1, 0, 0, 60, 26, 0],\n",
       "   [36, 1, 255191, 12, 14, 4, 10, 1, 4, 1, 0, 1408, 40, 26, 0],\n",
       "   [35, 3, 32220, 7, 12, 4, 4, 1, 4, 0, 0, 0, 60, 26, 0],\n",
       "   [20, 0, 214635, 15, 10, 4, 0, 3, 4, 1, 0, 0, 24, 26, 0],\n",
       "   [34, 2, 284843, 11, 9, 4, 5, 1, 2, 1, 594, 0, 60, 26, 0],\n",
       "   [21, 3, 199915, 15, 10, 4, 8, 3, 4, 0, 0, 0, 40, 26, 0],\n",
       "   [27, 3, 428030, 9, 13, 4, 3, 1, 4, 1, 0, 0, 50, 26, 0],\n",
       "   [31, 3, 323069, 11, 9, 5, 1, 4, 4, 0, 0, 0, 20, 0, 0],\n",
       "   [21, 3, 259510, 11, 9, 4, 6, 3, 4, 1, 0, 0, 36, 26, 0],\n",
       "   [24, 3, 43323, 11, 9, 4, 8, 1, 4, 0, 0, 1762, 40, 26, 0],\n",
       "   [70, 3, 105376, 15, 10, 4, 13, 2, 4, 1, 0, 0, 40, 26, 0],\n",
       "   [60, 3, 201965, 15, 10, 4, 10, 4, 4, 1, 0, 0, 40, 26, 1],\n",
       "   [50, 3, 193374, 3, 2, 3, 3, 4, 4, 1, 0, 0, 40, 26, 0],\n",
       "   [17, 0, 304873, 0, 6, 4, 0, 3, 4, 0, 34095, 0, 32, 26, 0],\n",
       "   [21, 3, 197747, 15, 10, 4, 12, 3, 4, 0, 0, 0, 24, 26, 0],\n",
       "   [32, 3, 186824, 11, 9, 4, 7, 4, 4, 1, 0, 0, 40, 26, 0],\n",
       "   [19, 3, 316868, 15, 10, 4, 8, 3, 4, 1, 0, 0, 30, 18, 0],\n",
       "   [20, 3, 298227, 15, 10, 4, 12, 1, 4, 1, 0, 0, 35, 26, 0],\n",
       "   [25, 3, 181054, 9, 13, 4, 12, 1, 4, 0, 0, 0, 40, 26, 0],\n",
       "   [19, 3, 168294, 11, 9, 4, 3, 3, 4, 1, 0, 0, 40, 26, 0],\n",
       "   [36, 3, 108293, 11, 9, 6, 8, 4, 4, 0, 0, 0, 24, 26, 0],\n",
       "   [80, 0, 107762, 11, 9, 6, 0, 1, 4, 1, 0, 0, 24, 26, 0],\n",
       "   [31, 3, 45781, 12, 14, 4, 10, 1, 4, 0, 14084, 0, 50, 26, 1],\n",
       "   [49, 3, 160187, 6, 5, 3, 8, 1, 2, 0, 0, 0, 16, 16, 0],\n",
       "   [48, 3, 242406, 1, 7, 4, 7, 4, 4, 1, 0, 0, 40, 22, 0],\n",
       "   [25, 3, 189775, 15, 10, 3, 1, 3, 2, 0, 0, 0, 20, 26, 0],\n",
       "   [27, 3, 213921, 11, 9, 4, 8, 3, 4, 1, 0, 0, 40, 18, 0],\n",
       "   [29, 2, 220419, 9, 13, 4, 11, 1, 4, 1, 0, 0, 56, 26, 0],\n",
       "   [59, 2, 171328, 0, 6, 6, 8, 4, 2, 0, 0, 0, 30, 26, 0],\n",
       "   [27, 3, 301302, 9, 13, 4, 3, 1, 4, 1, 0, 0, 50, 26, 0],\n",
       "   [19, 3, 249609, 15, 10, 4, 11, 3, 4, 1, 0, 0, 8, 26, 0],\n",
       "   [20, 3, 117789, 11, 9, 4, 8, 3, 4, 0, 0, 0, 40, 26, 0],\n",
       "   [19, 3, 232392, 11, 9, 4, 8, 2, 4, 0, 0, 0, 40, 26, 0],\n",
       "   [31, 4, 41493, 9, 13, 4, 5, 1, 4, 0, 0, 0, 45, 26, 0],\n",
       "   [27, 3, 248402, 9, 13, 4, 13, 4, 2, 0, 0, 0, 40, 26, 0],\n",
       "   [71, 5, 494223, 15, 10, 5, 12, 4, 2, 1, 0, 1816, 2, 26, 0],\n",
       "   [31, 3, 309974, 9, 13, 5, 12, 3, 2, 0, 0, 0, 40, 26, 0],\n",
       "   [18, 3, 243313, 11, 9, 4, 12, 3, 4, 0, 0, 0, 40, 26, 0],\n",
       "   [75, 3, 314209, 8, 11, 6, 1, 1, 4, 0, 0, 0, 20, 3, 0],\n",
       "   [19, 0, 170653, 11, 9, 4, 0, 3, 4, 1, 0, 0, 40, 15, 0],\n",
       "   [29, 3, 200381, 1, 7, 4, 4, 1, 4, 0, 0, 0, 40, 26, 0],\n",
       "   [19, 3, 301606, 15, 10, 4, 8, 3, 2, 1, 0, 0, 35, 26, 0],\n",
       "   [28, 3, 108574, 15, 10, 4, 8, 1, 4, 0, 0, 0, 40, 26, 0],\n",
       "   [52, 0, 271749, 2, 8, 4, 0, 2, 2, 1, 594, 0, 40, 26, 0],\n",
       "   [24, 3, 170070, 9, 13, 4, 13, 1, 4, 0, 0, 0, 20, 26, 0],\n",
       "   [25, 0, 200681, 15, 10, 4, 0, 3, 4, 1, 0, 0, 40, 26, 0],\n",
       "   [23, 3, 403107, 4, 3, 4, 8, 3, 4, 1, 0, 0, 40, 7, 0],\n",
       "   [69, 3, 136218, 1, 7, 4, 7, 1, 4, 0, 0, 0, 40, 26, 0],\n",
       "   [41, 3, 206565, 15, 10, 4, 3, 1, 2, 1, 0, 0, 45, 26, 0],\n",
       "   [17, 0, 202521, 1, 7, 4, 0, 3, 4, 1, 0, 0, 40, 26, 0],\n",
       "   [29, 2, 115585, 15, 10, 4, 6, 1, 4, 1, 0, 0, 50, 26, 0],\n",
       "   [18, 3, 183930, 11, 9, 4, 8, 3, 4, 1, 0, 0, 12, 26, 0],\n",
       "   [32, 3, 172579, 11, 9, 5, 8, 1, 4, 0, 0, 0, 30, 26, 0],\n",
       "   [27, 3, 267147, 11, 9, 4, 12, 3, 4, 1, 0, 0, 40, 26, 0],\n",
       "   [18, 3, 156764, 1, 7, 4, 8, 3, 4, 1, 0, 0, 40, 26, 0],\n",
       "   [53, 0, 251804, 4, 3, 6, 0, 4, 2, 0, 0, 0, 30, 26, 0],\n",
       "   [24, 3, 388093, 9, 13, 4, 4, 1, 2, 1, 0, 0, 40, 26, 0],\n",
       "   [21, 3, 231931, 15, 10, 4, 12, 3, 4, 1, 0, 0, 45, 26, 0],\n",
       "   [34, 0, 190027, 11, 9, 4, 0, 4, 2, 0, 0, 0, 40, 26, 0],\n",
       "   [26, 1, 185885, 15, 10, 4, 1, 4, 4, 0, 0, 0, 15, 26, 0],\n",
       "   [33, 3, 85043, 11, 9, 4, 5, 1, 4, 1, 0, 0, 20, 26, 0],\n",
       "   [24, 3, 278130, 11, 9, 4, 3, 3, 4, 1, 0, 0, 40, 26, 0],\n",
       "   [19, 3, 25429, 15, 10, 4, 1, 3, 4, 0, 0, 0, 16, 26, 0],\n",
       "   [72, 3, 205343, 1, 7, 6, 1, 4, 4, 0, 0, 0, 40, 26, 0],\n",
       "   [17, 3, 242718, 1, 7, 4, 12, 3, 4, 1, 0, 0, 12, 26, 0],\n",
       "   [34, 3, 198183, 11, 9, 4, 1, 1, 4, 0, 0, 0, 40, 26, 0],\n",
       "   [21, 0, 204226, 15, 10, 4, 0, 4, 4, 0, 0, 0, 35, 26, 0],\n",
       "   [42, 3, 228456, 9, 13, 5, 8, 2, 2, 1, 0, 0, 50, 26, 0],\n",
       "   [24, 3, 82804, 11, 9, 4, 6, 4, 2, 0, 0, 0, 40, 26, 0],\n",
       "   [21, 3, 197200, 15, 10, 4, 7, 3, 4, 1, 0, 0, 40, 26, 0],\n",
       "   [23, 3, 197904, 11, 9, 4, 8, 4, 4, 0, 0, 0, 35, 26, 0],\n",
       "   [23, 2, 190709, 7, 12, 4, 11, 1, 4, 1, 0, 0, 52, 26, 0],\n",
       "   [17, 3, 191260, 6, 5, 4, 8, 3, 4, 1, 1055, 0, 24, 26, 0],\n",
       "   [31, 5, 340939, 9, 13, 4, 13, 1, 4, 1, 0, 0, 40, 26, 0],\n",
       "   [31, 3, 156464, 9, 13, 4, 10, 3, 4, 1, 0, 0, 25, 26, 0],\n",
       "   [57, 0, 222216, 8, 11, 6, 0, 4, 4, 0, 0, 0, 38, 26, 0],\n",
       "   [41, 3, 193626, 11, 9, 3, 3, 4, 4, 0, 0, 0, 40, 26, 0],\n",
       "   [33, 3, 228528, 0, 6, 4, 3, 4, 4, 0, 0, 0, 35, 26, 0],\n",
       "   [40, 1, 56795, 12, 14, 4, 4, 1, 4, 0, 14084, 0, 55, 26, 1],\n",
       "   [30, 3, 94235, 11, 9, 4, 3, 2, 4, 1, 0, 0, 40, 26, 0],\n",
       "   [46, 3, 279196, 9, 13, 4, 3, 1, 4, 0, 0, 0, 40, 26, 0]])}"
      ]
     },
     "execution_count": 87,
     "metadata": {},
     "output_type": "execute_result"
    }
   ],
   "source": [
    "get_split(training_list)"
   ]
  },
  {
   "cell_type": "code",
   "execution_count": 85,
   "metadata": {},
   "outputs": [
    {
     "data": {
      "text/plain": [
       "<matplotlib.collections.PathCollection at 0x186c3c35910>"
      ]
     },
     "execution_count": 85,
     "metadata": {},
     "output_type": "execute_result"
    },
    {
     "data": {
      "image/png": "[encoded data removed]",
      "text/plain": [
       "<Figure size 432x288 with 1 Axes>"
      ]
     },
     "metadata": {
      "needs_background": "light"
     },
     "output_type": "display_data"
    }
   ],
   "source": [
    "plt.scatter(df_train['Education-num'], df_train['Income-per-year'])"
   ]
  },
  {
   "cell_type": "markdown",
   "metadata": {},
   "source": [
    "## Creating a Decision tree based on ordinary nodes and terminal nodes (leaves)\n",
    "### A terminal node should be created in such cases:\n",
    "### 1) If one of the groups is empty\n",
    "### 2) If current depth is greater than Max(depth)\n",
    "### 3) If size of a leaf (count of entries) is less than Min(size)"
   ]
  },
  {
   "cell_type": "code",
   "execution_count": 137,
   "metadata": {},
   "outputs": [],
   "source": [
    "# Creating a terminal node\n",
    "def set_terminal(group):\n",
    "    classes = [row[-1] for row in group]\n",
    "    # Choose the most possible class (option/result)\n",
    "    return max(set(classes), key=classes.count)"
   ]
  },
  {
   "cell_type": "code",
   "execution_count": 102,
   "metadata": {},
   "outputs": [],
   "source": [
    "# Splitting current node on left and right ones\n",
    "def split_node(node, max_depth, min_size, depth):\n",
    "    left, right = node['groups']\n",
    "    del(node['groups'])\n",
    "    # if one group is empty, make terminal nodes\n",
    "    if not left or not right:\n",
    "        node['left'] = node['right'] = set_terminal(left + right)\n",
    "        return\n",
    "    # if current depth is greater than max_depth, then make terminal nodes\n",
    "    if depth >= max_depth:\n",
    "        node['left'] = set_terminal(left)\n",
    "        node['right'] = set_terminal(right)\n",
    "        return\n",
    "    # processing left child\n",
    "    # if size of left child less than min_size, then make terminal node\n",
    "    if len(left) <= min_size:\n",
    "        node['left'] = set_terminal(left)\n",
    "    # if size of left child greater than min_size, then make an ordinary node for next split\n",
    "    else:\n",
    "        node['left'] = get_split(left)\n",
    "        split_node(node['left'], max_depth, min_size, depth+1)\n",
    "    # process right child\n",
    "    # if size of right child less than min_size, then make terminal node\n",
    "    if len(right) <= min_size:\n",
    "        node['right'] = set_terminal(right)\n",
    "    # if size of right child greater than min_size, then make an ordinary node for next split\n",
    "    else:\n",
    "        node['right'] = get_split(right)\n",
    "        split_node(node['right'], max_depth, min_size, depth+1)"
   ]
  },
  {
   "cell_type": "code",
   "execution_count": 108,
   "metadata": {},
   "outputs": [],
   "source": [
    "# Build a decision tree\n",
    "def trainTREE(train, max_depth=5, min_size=20):\n",
    "    training_list = train.values.tolist()\n",
    "    root = get_split(training_list)\n",
    "    split_node(root, max_depth, min_size, 1)\n",
    "    return root"
   ]
  },
  {
   "cell_type": "code",
   "execution_count": 104,
   "metadata": {},
   "outputs": [],
   "source": [
    "# Print a created decision tree\n",
    "def print_tree(node, depth=0):\n",
    "    # if node is a dict, it has child nodes\n",
    "    if isinstance(node, dict):\n",
    "        print('%s[X%d < %.3f]' % ((depth*' ', (node['index']+1), node['value'])))\n",
    "        print_tree(node['left'], depth+1)\n",
    "        print_tree(node['right'], depth+1)\n",
    "    # otherwise, it is a single node - a leaf\n",
    "    else:\n",
    "        print('%s[%s]' % ((depth*' ', node)))"
   ]
  },
  {
   "cell_type": "code",
   "execution_count": 142,
   "metadata": {},
   "outputs": [],
   "source": [
    "tree = trainTREE(df_train, 5, 20)"
   ]
  },
  {
   "cell_type": "code",
   "execution_count": 143,
   "metadata": {},
   "outputs": [
    {
     "name": "stdout",
     "output_type": "stream",
     "text": [
      "[X6 < 3.000]\n",
      " [X5 < 11.000]\n",
      "  [X13 < 38.000]\n",
      "   [X1 < 41.000]\n",
      "    [0]\n",
      "    [0]\n",
      "   [X11 < 7298.000]\n",
      "    [X1 < 31.000]\n",
      "     [0]\n",
      "     [0]\n",
      "    [1]\n",
      "  [X6 < 2.000]\n",
      "   [0]\n",
      "   [X2 < 6.000]\n",
      "    [X11 < 7298.000]\n",
      "     [1]\n",
      "     [1]\n",
      "    [1]\n",
      " [X5 < 14.000]\n",
      "  [X1 < 37.000]\n",
      "   [X1 < 24.000]\n",
      "    [X1 < 19.000]\n",
      "     [0]\n",
      "     [0]\n",
      "    [X1 < 24.000]\n",
      "     [0]\n",
      "     [0]\n",
      "   [X1 < 39.000]\n",
      "    [1]\n",
      "    [X7 < 10.000]\n",
      "     [0]\n",
      "     [0]\n",
      "  [0]\n"
     ]
    }
   ],
   "source": [
    "print_tree(tree)"
   ]
  },
  {
   "cell_type": "markdown",
   "metadata": {},
   "source": [
    "## Making predictions based on created TREE model\n",
    "### For each row in dataset func 'PredictTREE' predicts the result by going through created tree"
   ]
  },
  {
   "cell_type": "code",
   "execution_count": 124,
   "metadata": {},
   "outputs": [],
   "source": [
    "# Make a prediction for a dataset\n",
    "def predictTREE(node, test):\n",
    "    # Make a list of lists\n",
    "    testing_list = test.values.tolist()\n",
    "    result_list = []\n",
    "    # Predict value for each row\n",
    "    for row in testing_list:\n",
    "        result_list.append(predictTREE_Row(node, row))\n",
    "    return result_list"
   ]
  },
  {
   "cell_type": "code",
   "execution_count": 127,
   "metadata": {},
   "outputs": [],
   "source": [
    "# Make a prediction for a row\n",
    "def predictTREE_Row(node, row):\n",
    "    # go recursively through the tree until function reaches a terminal node - it will be a result\n",
    "    if row[node['index']] < node['value']:\n",
    "        if isinstance(node['left'], dict):\n",
    "            return predictTREE_Row(node['left'], row)\n",
    "        else:\n",
    "            return node['left']\n",
    "    else:\n",
    "        if isinstance(node['right'], dict):\n",
    "            return predictTREE_Row(node['right'], row)\n",
    "        else:\n",
    "            return node['right']"
   ]
  },
  {
   "cell_type": "code",
   "execution_count": 144,
   "metadata": {},
   "outputs": [],
   "source": [
    "results = predictTREE(tree, df_test)"
   ]
  },
  {
   "cell_type": "markdown",
   "metadata": {},
   "source": [
    "## Function for getting the percentage of correct answers to evaluate created model"
   ]
  },
  {
   "cell_type": "code",
   "execution_count": 135,
   "metadata": {},
   "outputs": [],
   "source": [
    "# get percentage of correct answers\n",
    "def checkScore(list1, list2):\n",
    "    correct = 0.0\n",
    "    for i in range(len(list1)):\n",
    "        if list1[i] == list2[i]:\n",
    "            correct+=1\n",
    "    return correct/len(list1)"
   ]
  },
  {
   "cell_type": "code",
   "execution_count": 145,
   "metadata": {},
   "outputs": [
    {
     "data": {
      "text/plain": [
       "0.85"
      ]
     },
     "execution_count": 145,
     "metadata": {},
     "output_type": "execute_result"
    }
   ],
   "source": [
    "checkScore(results, list(df_test['Income-per-year']))"
   ]
  },
  {
   "cell_type": "code",
   "execution_count": 148,
   "metadata": {},
   "outputs": [],
   "source": [
    "def getMetrics(y_test, y_predicted):\n",
    "    total_count = len(y_test)\n",
    "    test_neg_count, test_pos_count = 0, 0\n",
    "    for val in y_test:\n",
    "        if val == 1:\n",
    "            test_pos_count += 1\n",
    "        else:\n",
    "            test_neg_count += 1\n",
    "    fpr=[]\n",
    "    tpr=[]\n",
    "    auc = 0\n",
    "    fpr.append(0)\n",
    "    tpr.append(0)\n",
    "    y_list=[]\n",
    "    #y_pred = y_predicted.sort(reverse=True)    \n",
    "    for i in range(total_count):\n",
    "        if y_predicted[i] == 0:\n",
    "            y_list.append(y_test[i])\n",
    "        else:\n",
    "            y_list.insert(0, y_test[i])\n",
    "    for i in range(total_count):\n",
    "        if y_list[i] == 0:\n",
    "            fpr.append(fpr[i]+1/test_neg_count)\n",
    "            tpr.append(tpr[i])\n",
    "            auc = auc + tpr[i+1]/test_neg_count\n",
    "        else:\n",
    "            fpr.append(fpr[i])\n",
    "            tpr.append(tpr[i]+1/test_pos_count)\n",
    "    return tpr, fpr, auc"
   ]
  },
  {
   "cell_type": "code",
   "execution_count": 149,
   "metadata": {},
   "outputs": [],
   "source": [
    "tpr, fpr, auc = getMetrics(list(df_test['Income-per-year']), results)"
   ]
  },
  {
   "cell_type": "code",
   "execution_count": 161,
   "metadata": {},
   "outputs": [
    {
     "data": {
      "image/png": "[encoded data removed]",
      "text/plain": [
       "<Figure size 432x288 with 1 Axes>"
      ]
     },
     "metadata": {
      "needs_background": "light"
     },
     "output_type": "display_data"
    }
   ],
   "source": [
    "plt.plot(fpr, tpr, label='auc='+str(auc))\n",
    "plt.legend()\n",
    "plt.show()"
   ]
  },
  {
   "cell_type": "code",
   "execution_count": null,
   "metadata": {},
   "outputs": [],
   "source": []
  }
 ],
 "metadata": {
  "kernelspec": {
   "display_name": "Python 3",
   "language": "python",
   "name": "python3"
  },
  "language_info": {
   "codemirror_mode": {
    "name": "ipython",
    "version": 3
   },
   "file_extension": ".py",
   "mimetype": "text/x-python",
   "name": "python",
   "nbconvert_exporter": "python",
   "pygments_lexer": "ipython3",
   "version": "3.8.1"
  }
 },
 "nbformat": 4,
 "nbformat_minor": 4
}
