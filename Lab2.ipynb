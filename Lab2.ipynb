{
 "cells": [
  {
   "cell_type": "markdown",
   "metadata": {},
   "source": [
    "# Чтение и подготовка данных"
   ]
  },
  {
   "cell_type": "code",
   "execution_count": 152,
   "metadata": {},
   "outputs": [],
   "source": [
    "import math\n",
    "import random\n",
    "from random import seed\n",
    "from random import randrange\n",
    "\n",
    "import numpy\n",
    "import pandas as pd\n",
    "import matplotlib.pyplot as plt"
   ]
  },
  {
   "cell_type": "code",
   "execution_count": 38,
   "metadata": {},
   "outputs": [],
   "source": [
    "df1 = pd.read_csv('Data.csv', sep=',')"
   ]
  },
  {
   "cell_type": "code",
   "execution_count": 39,
   "metadata": {},
   "outputs": [],
   "source": [
    "df1 = df1[:600]"
   ]
  },
  {
   "cell_type": "code",
   "execution_count": 40,
   "metadata": {},
   "outputs": [
    {
     "name": "stdout",
     "output_type": "stream",
     "text": [
      "<class 'pandas.core.frame.DataFrame'>\n",
      "RangeIndex: 600 entries, 0 to 599\n",
      "Data columns (total 15 columns):\n",
      " #   Column           Non-Null Count  Dtype \n",
      "---  ------           --------------  ----- \n",
      " 0   Age              600 non-null    int64 \n",
      " 1   Workclass        600 non-null    object\n",
      " 2   Fnlwgt           600 non-null    int64 \n",
      " 3   Education        600 non-null    object\n",
      " 4   Education-num    600 non-null    int64 \n",
      " 5   Marital-status   600 non-null    object\n",
      " 6   Occupation       600 non-null    object\n",
      " 7   Relationship     600 non-null    object\n",
      " 8   Race             600 non-null    object\n",
      " 9   Sex              600 non-null    object\n",
      " 10  Capital-gain     600 non-null    int64 \n",
      " 11  Capital-loss     600 non-null    int64 \n",
      " 12  Hours-per-week   600 non-null    int64 \n",
      " 13  Native-Country   600 non-null    object\n",
      " 14  Income-per-year  600 non-null    object\n",
      "dtypes: int64(6), object(9)\n",
      "memory usage: 70.4+ KB\n"
     ]
    }
   ],
   "source": [
    "df1.info()"
   ]
  },
  {
   "cell_type": "code",
   "execution_count": 41,
   "metadata": {},
   "outputs": [
    {
     "data": {
      "text/html": [
       "<div>\n",
       "<style scoped>\n",
       "    .dataframe tbody tr th:only-of-type {\n",
       "        vertical-align: middle;\n",
       "    }\n",
       "\n",
       "    .dataframe tbody tr th {\n",
       "        vertical-align: top;\n",
       "    }\n",
       "\n",
       "    .dataframe thead th {\n",
       "        text-align: right;\n",
       "    }\n",
       "</style>\n",
       "<table border=\"1\" class=\"dataframe\">\n",
       "  <thead>\n",
       "    <tr style=\"text-align: right;\">\n",
       "      <th></th>\n",
       "      <th>Age</th>\n",
       "      <th>Fnlwgt</th>\n",
       "      <th>Education-num</th>\n",
       "      <th>Capital-gain</th>\n",
       "      <th>Capital-loss</th>\n",
       "      <th>Hours-per-week</th>\n",
       "    </tr>\n",
       "  </thead>\n",
       "  <tbody>\n",
       "    <tr>\n",
       "      <th>count</th>\n",
       "      <td>600.000000</td>\n",
       "      <td>6.000000e+02</td>\n",
       "      <td>600.000000</td>\n",
       "      <td>600.000000</td>\n",
       "      <td>600.000000</td>\n",
       "      <td>600.000000</td>\n",
       "    </tr>\n",
       "    <tr>\n",
       "      <th>mean</th>\n",
       "      <td>38.016667</td>\n",
       "      <td>1.926703e+05</td>\n",
       "      <td>10.073333</td>\n",
       "      <td>562.980000</td>\n",
       "      <td>101.825000</td>\n",
       "      <td>39.801667</td>\n",
       "    </tr>\n",
       "    <tr>\n",
       "      <th>std</th>\n",
       "      <td>13.505816</td>\n",
       "      <td>1.124690e+05</td>\n",
       "      <td>2.586976</td>\n",
       "      <td>2658.704404</td>\n",
       "      <td>427.045514</td>\n",
       "      <td>11.740474</td>\n",
       "    </tr>\n",
       "    <tr>\n",
       "      <th>min</th>\n",
       "      <td>17.000000</td>\n",
       "      <td>2.117400e+04</td>\n",
       "      <td>1.000000</td>\n",
       "      <td>0.000000</td>\n",
       "      <td>0.000000</td>\n",
       "      <td>1.000000</td>\n",
       "    </tr>\n",
       "    <tr>\n",
       "      <th>25%</th>\n",
       "      <td>28.000000</td>\n",
       "      <td>1.144500e+05</td>\n",
       "      <td>9.000000</td>\n",
       "      <td>0.000000</td>\n",
       "      <td>0.000000</td>\n",
       "      <td>40.000000</td>\n",
       "    </tr>\n",
       "    <tr>\n",
       "      <th>50%</th>\n",
       "      <td>36.000000</td>\n",
       "      <td>1.839230e+05</td>\n",
       "      <td>10.000000</td>\n",
       "      <td>0.000000</td>\n",
       "      <td>0.000000</td>\n",
       "      <td>40.000000</td>\n",
       "    </tr>\n",
       "    <tr>\n",
       "      <th>75%</th>\n",
       "      <td>46.000000</td>\n",
       "      <td>2.455462e+05</td>\n",
       "      <td>12.000000</td>\n",
       "      <td>0.000000</td>\n",
       "      <td>0.000000</td>\n",
       "      <td>42.250000</td>\n",
       "    </tr>\n",
       "    <tr>\n",
       "      <th>max</th>\n",
       "      <td>90.000000</td>\n",
       "      <td>1.033222e+06</td>\n",
       "      <td>16.000000</td>\n",
       "      <td>34095.000000</td>\n",
       "      <td>2415.000000</td>\n",
       "      <td>98.000000</td>\n",
       "    </tr>\n",
       "  </tbody>\n",
       "</table>\n",
       "</div>"
      ],
      "text/plain": [
       "              Age        Fnlwgt  Education-num  Capital-gain  Capital-loss  \\\n",
       "count  600.000000  6.000000e+02     600.000000    600.000000    600.000000   \n",
       "mean    38.016667  1.926703e+05      10.073333    562.980000    101.825000   \n",
       "std     13.505816  1.124690e+05       2.586976   2658.704404    427.045514   \n",
       "min     17.000000  2.117400e+04       1.000000      0.000000      0.000000   \n",
       "25%     28.000000  1.144500e+05       9.000000      0.000000      0.000000   \n",
       "50%     36.000000  1.839230e+05      10.000000      0.000000      0.000000   \n",
       "75%     46.000000  2.455462e+05      12.000000      0.000000      0.000000   \n",
       "max     90.000000  1.033222e+06      16.000000  34095.000000   2415.000000   \n",
       "\n",
       "       Hours-per-week  \n",
       "count      600.000000  \n",
       "mean        39.801667  \n",
       "std         11.740474  \n",
       "min          1.000000  \n",
       "25%         40.000000  \n",
       "50%         40.000000  \n",
       "75%         42.250000  \n",
       "max         98.000000  "
      ]
     },
     "execution_count": 41,
     "metadata": {},
     "output_type": "execute_result"
    }
   ],
   "source": [
    "df1.describe()"
   ]
  },
  {
   "cell_type": "markdown",
   "metadata": {},
   "source": [
    "## Change type Object to Category"
   ]
  },
  {
   "cell_type": "code",
   "execution_count": 42,
   "metadata": {},
   "outputs": [
    {
     "data": {
      "text/plain": [
       " Private             415\n",
       " Self-emp-not-inc     45\n",
       " Local-gov            42\n",
       " ?                    41\n",
       " State-gov            21\n",
       " Federal-gov          18\n",
       " Self-emp-inc         18\n",
       "Name: Workclass, dtype: int64"
      ]
     },
     "execution_count": 42,
     "metadata": {},
     "output_type": "execute_result"
    }
   ],
   "source": [
    "df1['Workclass'].value_counts()"
   ]
  },
  {
   "cell_type": "code",
   "execution_count": 43,
   "metadata": {},
   "outputs": [],
   "source": [
    "df1['Workclass'] = df1['Workclass'].astype('category').cat.codes"
   ]
  },
  {
   "cell_type": "code",
   "execution_count": 44,
   "metadata": {},
   "outputs": [
    {
     "data": {
      "text/plain": [
       " HS-grad         186\n",
       " Some-college    141\n",
       " Bachelors        95\n",
       " Masters          33\n",
       " 11th             29\n",
       " Assoc-acdm       27\n",
       " Assoc-voc        26\n",
       " 10th             11\n",
       " 7th-8th          10\n",
       " 9th               9\n",
       " Doctorate         8\n",
       " 5th-6th           7\n",
       " Prof-school       7\n",
       " 1st-4th           6\n",
       " 12th              4\n",
       " Preschool         1\n",
       "Name: Education, dtype: int64"
      ]
     },
     "execution_count": 44,
     "metadata": {},
     "output_type": "execute_result"
    }
   ],
   "source": [
    "df1['Education'].value_counts()"
   ]
  },
  {
   "cell_type": "code",
   "execution_count": 45,
   "metadata": {},
   "outputs": [],
   "source": [
    "df1['Education'] = df1['Education'].astype('category').cat.codes"
   ]
  },
  {
   "cell_type": "code",
   "execution_count": 46,
   "metadata": {},
   "outputs": [
    {
     "data": {
      "text/plain": [
       " Married-civ-spouse       272\n",
       " Never-married            203\n",
       " Divorced                  84\n",
       " Separated                 16\n",
       " Widowed                   14\n",
       " Married-spouse-absent     10\n",
       " Married-AF-spouse          1\n",
       "Name: Marital-status, dtype: int64"
      ]
     },
     "execution_count": 46,
     "metadata": {},
     "output_type": "execute_result"
    }
   ],
   "source": [
    "df1['Marital-status'].value_counts()"
   ]
  },
  {
   "cell_type": "code",
   "execution_count": 47,
   "metadata": {},
   "outputs": [],
   "source": [
    "df1['Marital-status'] = df1['Marital-status'].astype('category').cat.codes"
   ]
  },
  {
   "cell_type": "code",
   "execution_count": 48,
   "metadata": {},
   "outputs": [
    {
     "data": {
      "text/plain": [
       " Craft-repair         78\n",
       " Prof-specialty       74\n",
       " Sales                68\n",
       " Exec-managerial      68\n",
       " Other-service        65\n",
       " Adm-clerical         56\n",
       " ?                    41\n",
       " Machine-op-inspct    35\n",
       " Transport-moving     32\n",
       " Handlers-cleaners    28\n",
       " Tech-support         26\n",
       " Farming-fishing      14\n",
       " Protective-serv      13\n",
       " Armed-Forces          1\n",
       " Priv-house-serv       1\n",
       "Name: Occupation, dtype: int64"
      ]
     },
     "execution_count": 48,
     "metadata": {},
     "output_type": "execute_result"
    }
   ],
   "source": [
    "df1['Occupation'].value_counts()"
   ]
  },
  {
   "cell_type": "code",
   "execution_count": 49,
   "metadata": {},
   "outputs": [],
   "source": [
    "df1['Occupation'] = df1['Occupation'].astype('category').cat.codes"
   ]
  },
  {
   "cell_type": "code",
   "execution_count": 50,
   "metadata": {},
   "outputs": [
    {
     "data": {
      "text/plain": [
       " Husband           226\n",
       " Not-in-family     170\n",
       " Own-child          83\n",
       " Unmarried          64\n",
       " Wife               42\n",
       " Other-relative     15\n",
       "Name: Relationship, dtype: int64"
      ]
     },
     "execution_count": 50,
     "metadata": {},
     "output_type": "execute_result"
    }
   ],
   "source": [
    "df1['Relationship'].value_counts()"
   ]
  },
  {
   "cell_type": "code",
   "execution_count": 51,
   "metadata": {},
   "outputs": [],
   "source": [
    "df1['Relationship'] = df1['Relationship'].astype('category').cat.codes"
   ]
  },
  {
   "cell_type": "code",
   "execution_count": 52,
   "metadata": {},
   "outputs": [
    {
     "data": {
      "text/plain": [
       " White                 501\n",
       " Black                  69\n",
       " Asian-Pac-Islander     18\n",
       " Amer-Indian-Eskimo      7\n",
       " Other                   5\n",
       "Name: Race, dtype: int64"
      ]
     },
     "execution_count": 52,
     "metadata": {},
     "output_type": "execute_result"
    }
   ],
   "source": [
    "df1['Race'].value_counts()"
   ]
  },
  {
   "cell_type": "code",
   "execution_count": 53,
   "metadata": {},
   "outputs": [],
   "source": [
    "df1['Race'] = df1['Race'].astype('category').cat.codes"
   ]
  },
  {
   "cell_type": "code",
   "execution_count": 54,
   "metadata": {},
   "outputs": [
    {
     "data": {
      "text/plain": [
       " Male      399\n",
       " Female    201\n",
       "Name: Sex, dtype: int64"
      ]
     },
     "execution_count": 54,
     "metadata": {},
     "output_type": "execute_result"
    }
   ],
   "source": [
    "df1['Sex'].value_counts()"
   ]
  },
  {
   "cell_type": "code",
   "execution_count": 55,
   "metadata": {},
   "outputs": [],
   "source": [
    "df1['Sex'] = df1['Sex'].astype('category').cat.codes"
   ]
  },
  {
   "cell_type": "code",
   "execution_count": 56,
   "metadata": {},
   "outputs": [
    {
     "data": {
      "text/plain": [
       " United-States         538\n",
       " Mexico                 14\n",
       " ?                      11\n",
       " Puerto-Rico             4\n",
       " Iran                    3\n",
       " Canada                  3\n",
       " Philippines             2\n",
       " Poland                  2\n",
       " England                 2\n",
       " Portugal                2\n",
       " Cuba                    2\n",
       " Germany                 2\n",
       " El-Salvador             1\n",
       " Laos                    1\n",
       " Haiti                   1\n",
       " Italy                   1\n",
       " France                  1\n",
       " South                   1\n",
       " Taiwan                  1\n",
       " Dominican-Republic      1\n",
       " Cambodia                1\n",
       " Columbia                1\n",
       " Honduras                1\n",
       " Ecuador                 1\n",
       " India                   1\n",
       " Jamaica                 1\n",
       " Thailand                1\n",
       "Name: Native-Country, dtype: int64"
      ]
     },
     "execution_count": 56,
     "metadata": {},
     "output_type": "execute_result"
    }
   ],
   "source": [
    "df1['Native-Country'].value_counts()"
   ]
  },
  {
   "cell_type": "code",
   "execution_count": 57,
   "metadata": {},
   "outputs": [],
   "source": [
    "df1['Native-Country'] = df1['Native-Country'].astype('category').cat.codes"
   ]
  },
  {
   "cell_type": "code",
   "execution_count": 58,
   "metadata": {},
   "outputs": [
    {
     "data": {
      "text/plain": [
       " <=50K    466\n",
       " >50K     134\n",
       "Name: Income-per-year, dtype: int64"
      ]
     },
     "execution_count": 58,
     "metadata": {},
     "output_type": "execute_result"
    }
   ],
   "source": [
    "df1['Income-per-year'].value_counts()"
   ]
  },
  {
   "cell_type": "code",
   "execution_count": 59,
   "metadata": {},
   "outputs": [],
   "source": [
    "df1['Income-per-year'] = df1['Income-per-year'].astype('category').cat.codes"
   ]
  },
  {
   "cell_type": "code",
   "execution_count": 60,
   "metadata": {},
   "outputs": [
    {
     "name": "stdout",
     "output_type": "stream",
     "text": [
      "<class 'pandas.core.frame.DataFrame'>\n",
      "RangeIndex: 600 entries, 0 to 599\n",
      "Data columns (total 15 columns):\n",
      " #   Column           Non-Null Count  Dtype\n",
      "---  ------           --------------  -----\n",
      " 0   Age              600 non-null    int64\n",
      " 1   Workclass        600 non-null    int8 \n",
      " 2   Fnlwgt           600 non-null    int64\n",
      " 3   Education        600 non-null    int8 \n",
      " 4   Education-num    600 non-null    int64\n",
      " 5   Marital-status   600 non-null    int8 \n",
      " 6   Occupation       600 non-null    int8 \n",
      " 7   Relationship     600 non-null    int8 \n",
      " 8   Race             600 non-null    int8 \n",
      " 9   Sex              600 non-null    int8 \n",
      " 10  Capital-gain     600 non-null    int64\n",
      " 11  Capital-loss     600 non-null    int64\n",
      " 12  Hours-per-week   600 non-null    int64\n",
      " 13  Native-Country   600 non-null    int8 \n",
      " 14  Income-per-year  600 non-null    int8 \n",
      "dtypes: int64(6), int8(9)\n",
      "memory usage: 33.5 KB\n"
     ]
    }
   ],
   "source": [
    "df1.info()"
   ]
  },
  {
   "cell_type": "code",
   "execution_count": 61,
   "metadata": {},
   "outputs": [
    {
     "data": {
      "text/plain": [
       "600"
      ]
     },
     "execution_count": 61,
     "metadata": {},
     "output_type": "execute_result"
    }
   ],
   "source": [
    "len(df1)"
   ]
  },
  {
   "cell_type": "code",
   "execution_count": 62,
   "metadata": {},
   "outputs": [],
   "source": [
    "def train_test_split(df, test_size=0.2):\n",
    "    df = df.sample(frac=1).reset_index(drop=True)\n",
    "    df = pd.DataFrame(df)\n",
    "    size = len(df)\n",
    "    df_Test = df.iloc[:int(size*test_size),:]\n",
    "    df_Train = df.iloc[int(size*test_size):,:]\n",
    "    return df_Train, df_Test"
   ]
  },
  {
   "cell_type": "code",
   "execution_count": 109,
   "metadata": {},
   "outputs": [],
   "source": [
    "df_train, df_test = train_test_split(df1, 0.2)"
   ]
  },
  {
   "cell_type": "code",
   "execution_count": 110,
   "metadata": {},
   "outputs": [
    {
     "data": {
      "text/plain": [
       "480"
      ]
     },
     "execution_count": 110,
     "metadata": {},
     "output_type": "execute_result"
    }
   ],
   "source": [
    "len(df_train)"
   ]
  },
  {
   "cell_type": "code",
   "execution_count": 111,
   "metadata": {},
   "outputs": [],
   "source": [
    "df_test_Y = df_test['Income-per-year']"
   ]
  },
  {
   "cell_type": "code",
   "execution_count": 112,
   "metadata": {},
   "outputs": [],
   "source": [
    "df_test_X = df_test.drop(columns=['Income-per-year'])"
   ]
  },
  {
   "attachments": {
    "image.png": {
     "image/png": "[encoded data removed]"
    }
   },
   "cell_type": "markdown",
   "metadata": {},
   "source": [
    "## Entropy Criteria\n",
    "![image.png](attachment:image.png)"
   ]
  },
  {
   "cell_type": "code",
   "execution_count": 173,
   "metadata": {},
   "outputs": [],
   "source": [
    "# Calculate the Entropy index for a split dataset\n",
    "def entropy_index(groups, value_types):\n",
    "    # count all samples at split point\n",
    "    count_samples = float(sum([len(group) for group in groups]))\n",
    "    # sum weighted Entropy for each group\n",
    "    entropy = 0.0\n",
    "    for group in groups:\n",
    "        size = float(len(group))\n",
    "        # if values in group do not exist -> next iteration\n",
    "        if size == 0:\n",
    "            continue\n",
    "        score = 0.0\n",
    "        # score the group based on the score for each class\n",
    "        for val in value_types:\n",
    "            count_val = 0.0\n",
    "            for row in group:\n",
    "                if row[-1] == val:\n",
    "                    count_val += 1\n",
    "            ratio_val = count_val/size\n",
    "            if count_val == 0:\n",
    "                score -= 0\n",
    "            else:\n",
    "                score -= ratio_val * math.log2(ratio_val)\n",
    "        # Getting weighted Entropy Index depending on size of group\n",
    "        entropy += score * (size / count_samples)\n",
    "    return entropy"
   ]
  },
  {
   "cell_type": "markdown",
   "metadata": {},
   "source": [
    "## Splits for a decision tree based on Entropy Criteria"
   ]
  },
  {
   "cell_type": "code",
   "execution_count": 195,
   "metadata": {},
   "outputs": [],
   "source": [
    "# Split a dataset based on an attribute value\n",
    "def make_split(column, value, training_list):\n",
    "    left, right = list(), list()\n",
    "    for row in training_list:\n",
    "        if row[column] < value:\n",
    "            left.append(row)\n",
    "        else:\n",
    "            right.append(row)\n",
    "    return left, right"
   ]
  },
  {
   "cell_type": "code",
   "execution_count": 204,
   "metadata": {},
   "outputs": [],
   "source": [
    "# Select the best split point for a dataset\n",
    "def get_split(training_list, count_features):\n",
    "    value_types = list(set(result[-1] for result in training_list))\n",
    "    # best_column - best column for splitting\n",
    "    # best_value - best value of column, which should be used for splitting a dataset into left and right ones\n",
    "    # best_score - best entropy parameter\n",
    "    # best_groups - left and right parts of tree\n",
    "    best_column, best_value, best_score, best_groups = 999999, 999999, 999999, None\n",
    "    # columns -- chosen columns for splitting\n",
    "    columns = list()\n",
    "    while (len(columns) < count_features):\n",
    "        ind = random.randint(0, len(training_list[0]) - 2)\n",
    "        if ind not in columns:\n",
    "            columns.append(ind)\n",
    "    for column in columns: #for all columns except value-attribute\n",
    "        for row in training_list:\n",
    "            # make groups and calculate weighted entropy for them\n",
    "            groups = make_split(column, row[column], training_list)\n",
    "            entropy = entropy_index(groups, value_types)\n",
    "            # if entropy is better update best parameters\n",
    "            if entropy < best_score:\n",
    "                best_column, best_value, best_score, best_groups = column, row[column], entropy, groups\n",
    "    return {'index':best_column, 'value':best_value, 'groups':best_groups}"
   ]
  },
  {
   "cell_type": "code",
   "execution_count": 128,
   "metadata": {},
   "outputs": [],
   "source": [
    "df_train_Y = df_train['Income-per-year']"
   ]
  },
  {
   "cell_type": "code",
   "execution_count": 129,
   "metadata": {},
   "outputs": [],
   "source": [
    "df_train_X = df_train.drop(columns=['Income-per-year'])"
   ]
  },
  {
   "cell_type": "code",
   "execution_count": 70,
   "metadata": {},
   "outputs": [
    {
     "data": {
      "text/plain": [
       "<matplotlib.collections.PathCollection at 0x16e02790310>"
      ]
     },
     "execution_count": 70,
     "metadata": {},
     "output_type": "execute_result"
    },
    {
     "data": {
      "image/png": "[encoded data removed]",
      "text/plain": [
       "<Figure size 432x288 with 1 Axes>"
      ]
     },
     "metadata": {
      "needs_background": "light"
     },
     "output_type": "display_data"
    }
   ],
   "source": [
    "plt.scatter(df_train['Education-num'], df_train['Income-per-year'])"
   ]
  },
  {
   "cell_type": "markdown",
   "metadata": {},
   "source": [
    "### Creating Random Sample"
   ]
  },
  {
   "cell_type": "code",
   "execution_count": 215,
   "metadata": {},
   "outputs": [],
   "source": [
    "def get_random_sample(training_list, rows_count=0):\n",
    "    # function allows dublicate rows\n",
    "    new_list = list()\n",
    "    ### If count of rows is zero return back input list\n",
    "    if rows_count == 0:\n",
    "        return training_list\n",
    "    while (len(new_list)<rows_count):\n",
    "        ind = random.randint(0, len(training_list) - 1)\n",
    "        new_list.append(training_list[ind])\n",
    "    return new_list"
   ]
  },
  {
   "cell_type": "markdown",
   "metadata": {},
   "source": [
    "## Creating a Decision tree based on ordinary nodes and terminal nodes (leaves)\n",
    "### A terminal node should be created in such cases:\n",
    "### 1) If one of the groups is empty\n",
    "### 2) If current depth is greater than Max(depth)\n",
    "### 3) If size of a leaf (count of entries) is less than Min(size)"
   ]
  },
  {
   "cell_type": "code",
   "execution_count": 252,
   "metadata": {},
   "outputs": [],
   "source": [
    "# Creating a terminal node\n",
    "def set_terminal(group):\n",
    "    classes = list()\n",
    "    for row in group:\n",
    "        classes.append(row[-1])\n",
    "    # Choose the most possible class (option/result)\n",
    "    return max(set(classes), key=classes.count)"
   ]
  },
  {
   "cell_type": "code",
   "execution_count": 211,
   "metadata": {},
   "outputs": [],
   "source": [
    "# Splitting current node on left and right ones\n",
    "def split_node(node, max_depth, min_size, depth, count_features):\n",
    "    left, right = node['groups']\n",
    "    del(node['groups'])\n",
    "    # if one group is empty, make terminal nodes\n",
    "    if not left or not right:\n",
    "        node['left'] = node['right'] = set_terminal(left + right)\n",
    "        return\n",
    "    # if current depth is greater than max_depth, then make terminal nodes\n",
    "    if depth >= max_depth:\n",
    "        node['left'] = set_terminal(left)\n",
    "        node['right'] = set_terminal(right)\n",
    "        return\n",
    "    # processing left child\n",
    "    # if size of left child less than min_size, then make terminal node\n",
    "    if len(left) <= min_size:\n",
    "        node['left'] = set_terminal(left)\n",
    "    # if size of left child greater than min_size, then make an ordinary node for next split\n",
    "    else:\n",
    "        node['left'] = get_split(left, count_features)\n",
    "        split_node(node['left'], max_depth, min_size, depth+1, count_features)\n",
    "    # process right child\n",
    "    # if size of right child less than min_size, then make terminal node\n",
    "    if len(right) <= min_size:\n",
    "        node['right'] = set_terminal(right)\n",
    "    # if size of right child greater than min_size, then make an ordinary node for next split\n",
    "    else:\n",
    "        node['right'] = get_split(right, count_features)\n",
    "        split_node(node['right'], max_depth, min_size, depth+1, count_features)"
   ]
  },
  {
   "cell_type": "code",
   "execution_count": 222,
   "metadata": {},
   "outputs": [],
   "source": [
    "# Build a decision tree\n",
    "def trainTREE(train_X, train_Y, max_depth=5, min_size=20, count_features=0, count_rows_in_sample=0):\n",
    "    \"\"\"Builds a decision tree, based on params\n",
    "    \n",
    "    Keyword input arguments:\n",
    "    max_depth -- Maximum depth of the tree\n",
    "    min_size -- Minimum size in a leaf to continue splitting nodes\n",
    "    trainX -- training sample which contains only features (X)\n",
    "    trainY -- training sample which contains obly results (Y)\n",
    "    count_features -- count of columns which can be used to split a node\n",
    "    \n",
    "    Output:\n",
    "    root -- a created decision tree\n",
    "    \n",
    "    \"\"\"   \n",
    "    training_list = train_X.values.tolist()\n",
    "    training_results = train_Y.values.tolist()\n",
    "    if (count_features == 0):\n",
    "        count_features = len(training_list[0])\n",
    "    for i in range(len(training_results)):\n",
    "        training_list[i].append(training_results[i])\n",
    "    # Get a random sample\n",
    "    # if count_rows_in_sample is 0 than returned sample is training_list\n",
    "    training_list = get_random_sample(training_list, count_rows_in_sample)\n",
    "    root = get_split(training_list,count_features)\n",
    "    ###\n",
    "    split_node(root, max_depth, min_size, 1, count_features)\n",
    "    return root"
   ]
  },
  {
   "cell_type": "code",
   "execution_count": 179,
   "metadata": {},
   "outputs": [],
   "source": [
    "# Print a created decision tree\n",
    "def print_tree(node, depth=0):\n",
    "    # if node is a dict, it has child nodes\n",
    "    if isinstance(node, dict):\n",
    "        print('%s[X%d < %.3f]' % ((depth*' ', (node['index']+1), node['value'])))\n",
    "        print_tree(node['left'], depth+1)\n",
    "        print_tree(node['right'], depth+1)\n",
    "    # otherwise, it is a single node - a leaf\n",
    "    else:\n",
    "        print('%s[%s]' % ((depth*' ', node)))"
   ]
  },
  {
   "cell_type": "code",
   "execution_count": 253,
   "metadata": {},
   "outputs": [],
   "source": [
    "tree = trainTREE(df_train_X, df_train_Y, 5, 20)"
   ]
  },
  {
   "cell_type": "code",
   "execution_count": 254,
   "metadata": {},
   "outputs": [
    {
     "name": "stdout",
     "output_type": "stream",
     "text": [
      "[X6 < 3.000]\n",
      " [X11 < 5178.000]\n",
      "  [X5 < 10.000]\n",
      "   [X13 < 40.000]\n",
      "    [X10 < 0.000]\n",
      "     [0]\n",
      "     [0]\n",
      "    [X1 < 52.000]\n",
      "     [0]\n",
      "     [0]\n",
      "   [X6 < 2.000]\n",
      "    [X3 < 174575.000]\n",
      "     [0]\n",
      "     [0]\n",
      "    [X1 < 28.000]\n",
      "     [0]\n",
      "     [1]\n",
      "  [1]\n",
      " [X1 < 31.000]\n",
      "  [X11 < 0.000]\n",
      "   [0]\n",
      "   [0]\n",
      "  [X5 < 10.000]\n",
      "   [X2 < 1.000]\n",
      "    [0]\n",
      "    [X2 < 1.000]\n",
      "     [0]\n",
      "     [0]\n",
      "   [X3 < 410867.000]\n",
      "    [X12 < 1564.000]\n",
      "     [0]\n",
      "     [1]\n",
      "    [1]\n"
     ]
    }
   ],
   "source": [
    "print_tree(tree)"
   ]
  },
  {
   "cell_type": "markdown",
   "metadata": {},
   "source": [
    "## Making predictions based on created TREE model\n",
    "### For each row in dataset func 'PredictTREE' predicts the result by going through created tree"
   ]
  },
  {
   "cell_type": "code",
   "execution_count": 242,
   "metadata": {},
   "outputs": [],
   "source": [
    "# Make a prediction for a dataset\n",
    "def predictTREE(node, test):\n",
    "    # Make a list of lists\n",
    "    testing_list = test.values.tolist()\n",
    "    result_list = []\n",
    "    # Predict value for each row\n",
    "    for row in testing_list:\n",
    "        result_list.append(predictTREE_Row(node, row))\n",
    "    return result_list"
   ]
  },
  {
   "cell_type": "code",
   "execution_count": 243,
   "metadata": {},
   "outputs": [],
   "source": [
    "# Make a prediction for a row\n",
    "def predictTREE_Row(node, row):\n",
    "    # go recursively through the tree until function reaches a terminal node - it will be a result\n",
    "    if row[node['index']] < node['value']:\n",
    "        if isinstance(node['left'], dict):\n",
    "            return predictTREE_Row(node['left'], row)\n",
    "        else:\n",
    "            return node['left']\n",
    "    else:\n",
    "        if isinstance(node['right'], dict):\n",
    "            return predictTREE_Row(node['right'], row)\n",
    "        else:\n",
    "            return node['right']"
   ]
  },
  {
   "cell_type": "code",
   "execution_count": 255,
   "metadata": {},
   "outputs": [],
   "source": [
    "results = predictTREE(tree, df_test_X)"
   ]
  },
  {
   "cell_type": "markdown",
   "metadata": {},
   "source": [
    "## Function for getting the percentage of correct answers to evaluate created model"
   ]
  },
  {
   "cell_type": "code",
   "execution_count": 114,
   "metadata": {},
   "outputs": [],
   "source": [
    "# get percentage of correct answers\n",
    "def checkScore(list1, list2):\n",
    "    correct = 0.0\n",
    "    for i in range(len(list1)):\n",
    "        if list1[i] == list2[i]:\n",
    "            correct+=1\n",
    "    return correct/len(list1)"
   ]
  },
  {
   "cell_type": "code",
   "execution_count": 256,
   "metadata": {},
   "outputs": [
    {
     "data": {
      "text/plain": [
       "0.775"
      ]
     },
     "execution_count": 256,
     "metadata": {},
     "output_type": "execute_result"
    }
   ],
   "source": [
    "checkScore(results, list(df_test_Y))"
   ]
  },
  {
   "cell_type": "markdown",
   "metadata": {},
   "source": [
    "## Function for getting AUC, True-Positive-Rate, False-Positive-Rate\n",
    "1. вычислить количество представителей классов +1 и -1 в выборке;\n",
    "2. упорядочить выборку X^m по убыванию значений f(x_i,w);\n",
    "3. установить начальную точку ROC-кривой;\n",
    "4. для всех  i:=1..m \n",
    "     если (y_i = -1), то сместиться на один шаг вправо;\n",
    "5.   иначе сместиться на один шаг вверх;"
   ]
  },
  {
   "cell_type": "code",
   "execution_count": 95,
   "metadata": {},
   "outputs": [],
   "source": [
    "def getMetrics(y_test, y_predicted):\n",
    "    \"\"\"Gets AUC, True Positive Rate and False Positive Rate\n",
    "    \n",
    "    Keyword input arguments:\n",
    "    y_test -- List of testing results\n",
    "    y_predicted -- List of predicted results\n",
    "    \n",
    "    Output:\n",
    "    tpr -- True Positive Rate\n",
    "    fpr -- False Positive Rate\n",
    "    auc -- AUC, which means Area Under ROC-Curve\n",
    "    \n",
    "    \"\"\"    \n",
    "    # total_count -- count of all entries (rows)\n",
    "    total_count = len(y_test)\n",
    "    # test_neg_count -- count of '0' results in testing sample\n",
    "    # test_pos_count -- count of '1' results in testing sample\n",
    "    test_neg_count, test_pos_count = 0, 0\n",
    "    # Getting positive and negative counts\n",
    "    for val in y_test:\n",
    "        if val == 1:\n",
    "            test_pos_count += 1\n",
    "        else:\n",
    "            test_neg_count += 1\n",
    "    fpr=[]\n",
    "    tpr=[]\n",
    "    auc = 0\n",
    "    # making first point (0,0)\n",
    "    fpr.append(0)\n",
    "    tpr.append(0)\n",
    "    # y_list -- sorted 'y_test' by descending results of y_predicted\n",
    "    y_list=[]   \n",
    "    for i in range(total_count):\n",
    "        if y_predicted[i] == 0:\n",
    "            y_list.append(y_test[i])\n",
    "        else:\n",
    "            y_list.insert(0, y_test[i])\n",
    "    # Making points ROC-curve depending on y_list result\n",
    "    # Calculating AUC\n",
    "    for i in range(total_count):\n",
    "        # Step to the right\n",
    "        if y_list[i] == 0:\n",
    "            fpr.append(fpr[i]+1/test_neg_count)\n",
    "            tpr.append(tpr[i])\n",
    "            auc = auc + tpr[i+1]/test_neg_count\n",
    "        # Step up\n",
    "        else:\n",
    "            fpr.append(fpr[i])\n",
    "            tpr.append(tpr[i]+1/test_pos_count)\n",
    "    return tpr, fpr, auc"
   ]
  },
  {
   "cell_type": "markdown",
   "metadata": {},
   "source": [
    "### Построение ROC-кривой и подсчет AUC с помощью описанной выше функции"
   ]
  },
  {
   "cell_type": "code",
   "execution_count": 271,
   "metadata": {},
   "outputs": [],
   "source": [
    "tpr, fpr, auc = getMetrics(list(df_test_Y), results)"
   ]
  },
  {
   "cell_type": "code",
   "execution_count": 272,
   "metadata": {},
   "outputs": [
    {
     "data": {
      "image/png": "[encoded data removed]",
      "text/plain": [
       "<Figure size 432x288 with 1 Axes>"
      ]
     },
     "metadata": {
      "needs_background": "light"
     },
     "output_type": "display_data"
    }
   ],
   "source": [
    "plt.plot(fpr, tpr, label='auc='+str(auc))\n",
    "plt.plot([0, 1], [0, 1], linestyle='--')\n",
    "plt.legend()\n",
    "plt.show()"
   ]
  },
  {
   "cell_type": "code",
   "execution_count": 266,
   "metadata": {},
   "outputs": [],
   "source": [
    "from sklearn.metrics import roc_curve\n",
    "from sklearn.metrics import roc_auc_score\n",
    "\n",
    "auc = roc_auc_score(list(df_test_Y), results)"
   ]
  },
  {
   "cell_type": "code",
   "execution_count": 267,
   "metadata": {},
   "outputs": [
    {
     "name": "stdout",
     "output_type": "stream",
     "text": [
      "0.6783953384132676\n"
     ]
    }
   ],
   "source": [
    "print(auc)"
   ]
  },
  {
   "cell_type": "code",
   "execution_count": 268,
   "metadata": {},
   "outputs": [
    {
     "data": {
      "image/png": "[encoded data removed]",
      "text/plain": [
       "<Figure size 432x288 with 1 Axes>"
      ]
     },
     "metadata": {
      "needs_background": "light"
     },
     "output_type": "display_data"
    }
   ],
   "source": [
    "fpr, tpr, thresholds = roc_curve(list(df_test_Y), results)\n",
    "plt.plot(fpr, tpr, marker='.')\n",
    "plt.show()"
   ]
  },
  {
   "cell_type": "code",
   "execution_count": 131,
   "metadata": {},
   "outputs": [],
   "source": [
    "def trainRND(train_X, trainY):\n",
    "    training_list = trainY.values.tolist()\n",
    "    total_count = len(training_list)\n",
    "    negatives = 0\n",
    "    positives = 0\n",
    "    for val in training_list:\n",
    "        if val == 0:\n",
    "            negatives += 1\n",
    "        else:\n",
    "            positives += 1\n",
    "    return float(negatives)/total_count, float(positives)/total_count"
   ]
  },
  {
   "cell_type": "code",
   "execution_count": 145,
   "metadata": {},
   "outputs": [],
   "source": [
    "def predictRND(chances, X):\n",
    "    result = list()\n",
    "    X = X.values.tolist()\n",
    "    for row in X:\n",
    "        result.append(numpy.random.choice([0, 1], p=[chances[0], chances[1]]))\n",
    "    return result"
   ]
  },
  {
   "cell_type": "code",
   "execution_count": 133,
   "metadata": {},
   "outputs": [],
   "source": [
    "modelRND = trainRND(df_train_X, df_train_Y)"
   ]
  },
  {
   "cell_type": "code",
   "execution_count": 146,
   "metadata": {},
   "outputs": [],
   "source": [
    "RND_results = predictRND(modelRND, df_test_X)"
   ]
  },
  {
   "cell_type": "code",
   "execution_count": 147,
   "metadata": {},
   "outputs": [],
   "source": [
    "tpr, fpr, auc = getMetrics(list(df_test_Y), RND_results)"
   ]
  },
  {
   "cell_type": "code",
   "execution_count": 149,
   "metadata": {},
   "outputs": [
    {
     "data": {
      "image/png": "[encoded data removed]",
      "text/plain": [
       "<Figure size 432x288 with 1 Axes>"
      ]
     },
     "metadata": {
      "needs_background": "light"
     },
     "output_type": "display_data"
    }
   ],
   "source": [
    "plt.plot(fpr, tpr, label='auc='+str(auc))\n",
    "plt.plot([0, 1], [0, 1], linestyle='--')\n",
    "plt.legend()\n",
    "plt.show()"
   ]
  },
  {
   "cell_type": "code",
   "execution_count": 220,
   "metadata": {},
   "outputs": [],
   "source": [
    "def trainRANDOM_FOREST(train_X, train_Y, max_depth=5, min_size=20, count_features=0, \n",
    "                   count_trees=1, count_rows_in_sample=0):\n",
    "    \"\"\"Builds random forest and trains a model\n",
    "    \n",
    "    Keyword input arguments:\n",
    "    max_depth -- Maximum depth of the tree\n",
    "    min_size -- Minimum size in a leaf to continue splitting nodes\n",
    "    trainX -- training sample which contains only features (X)\n",
    "    trainY -- training sample which contains obly results (Y)\n",
    "    count_features -- count of columns which can be used to split a node\n",
    "    count_trees -- count of total trees created by function\n",
    "    count_rows_in_sample -- count rows used to train one tree\n",
    "    \n",
    "    Output:\n",
    "    forest -- a list of trees, generated by the fuction, represents a model\n",
    "    \n",
    "    \"\"\"    \n",
    "    forest = list()\n",
    "    for i in range(count_trees):\n",
    "        forest.append(trainTREE(train_X, train_Y, max_depth, \n",
    "                                 min_size, count_features, count_rows_in_sample))\n",
    "    return forest"
   ]
  },
  {
   "cell_type": "code",
   "execution_count": 217,
   "metadata": {},
   "outputs": [],
   "source": [
    "def predictRANDOM_FOREST(forest, test_X):\n",
    "    \"\"\"Predicts results on list of rows\n",
    "    \n",
    "    Keyword input arguments:\n",
    "    forest -- a model, represents list of trees (got by random forest)\n",
    "    test_X -- testing sample which contains only features (X)\n",
    "    \n",
    "    Output:\n",
    "    final_results -- a list of calculated results\n",
    "    \n",
    "    \"\"\"  \n",
    "    # Get answer from every tree\n",
    "    recieved_answers = list()\n",
    "    for tree in forest:\n",
    "        recieved_answers.append(predictTREE(tree, test_X))\n",
    "    # Determine a 'most popular' result for every row\n",
    "    final_results = list()\n",
    "    for i in range(len(test_X)):\n",
    "        answer = list()\n",
    "        for row in recieved_answers:\n",
    "            answer.append(row[i])\n",
    "        final_results.append(max(set(answer), key=answer.count))\n",
    "    return final_results"
   ]
  },
  {
   "cell_type": "code",
   "execution_count": 274,
   "metadata": {},
   "outputs": [],
   "source": [
    "forest = trainRANDOM_FOREST(df_train_X, df_train_Y, 5, 20, 4, 10, 250)"
   ]
  },
  {
   "cell_type": "code",
   "execution_count": 275,
   "metadata": {},
   "outputs": [],
   "source": [
    "forest_results = predictRANDOM_FOREST(forest, df_test_X)"
   ]
  },
  {
   "cell_type": "code",
   "execution_count": 276,
   "metadata": {},
   "outputs": [],
   "source": [
    "tpr, fpr, auc = getMetrics(list(df_test_Y), forest_results)"
   ]
  },
  {
   "cell_type": "code",
   "execution_count": 277,
   "metadata": {},
   "outputs": [
    {
     "data": {
      "image/png": "[encoded data removed]",
      "text/plain": [
       "<Figure size 432x288 with 1 Axes>"
      ]
     },
     "metadata": {
      "needs_background": "light"
     },
     "output_type": "display_data"
    }
   ],
   "source": [
    "plt.plot(fpr, tpr, label='auc='+str(auc))\n",
    "plt.plot([0, 1], [0, 1], linestyle='--')\n",
    "plt.legend()\n",
    "plt.show()"
   ]
  },
  {
   "cell_type": "code",
   "execution_count": 273,
   "metadata": {},
   "outputs": [
    {
     "data": {
      "text/plain": [
       "0.8"
      ]
     },
     "execution_count": 273,
     "metadata": {},
     "output_type": "execute_result"
    }
   ],
   "source": [
    "checkScore(forest_results, list(df_test_Y))"
   ]
  },
  {
   "cell_type": "code",
   "execution_count": 269,
   "metadata": {},
   "outputs": [
    {
     "data": {
      "text/plain": [
       "120"
      ]
     },
     "execution_count": 269,
     "metadata": {},
     "output_type": "execute_result"
    }
   ],
   "source": [
    "len(df_test_X)"
   ]
  },
  {
   "cell_type": "code",
   "execution_count": null,
   "metadata": {},
   "outputs": [],
   "source": []
  }
 ],
 "metadata": {
  "kernelspec": {
   "display_name": "Python 3",
   "language": "python",
   "name": "python3"
  },
  "language_info": {
   "codemirror_mode": {
    "name": "ipython",
    "version": 3
   },
   "file_extension": ".py",
   "mimetype": "text/x-python",
   "name": "python",
   "nbconvert_exporter": "python",
   "pygments_lexer": "ipython3",
   "version": "3.8.1"
  }
 },
 "nbformat": 4,
 "nbformat_minor": 4
}
